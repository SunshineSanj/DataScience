{
 "cells": [
  {
   "cell_type": "markdown",
   "id": "listed-vintage",
   "metadata": {},
   "source": [
    "# <center>Stock Market Prediction And Forecasting Using Stacked LSTM</center>\n",
    "<img src=\"STOCK_MARKET.jpg\">"
   ]
  },
  {
   "cell_type": "markdown",
   "id": "comparable-wholesale",
   "metadata": {},
   "source": [
    "### Importing important pagkages"
   ]
  },
  {
   "cell_type": "code",
   "execution_count": 2,
   "id": "antique-genre",
   "metadata": {},
   "outputs": [],
   "source": [
    "import numpy as np\n",
    "import pandas as pd\n",
    "import matplotlib.pyplot as plt\n",
    "from matplotlib import rcParams"
   ]
  },
  {
   "cell_type": "markdown",
   "id": "spoken-pennsylvania",
   "metadata": {},
   "source": [
    "### Importing Dataset"
   ]
  },
  {
   "cell_type": "code",
   "execution_count": 3,
   "id": "harmful-invite",
   "metadata": {},
   "outputs": [],
   "source": [
    "data = pd.read_csv(\"STOCK_MARKET.csv\")"
   ]
  },
  {
   "cell_type": "markdown",
   "id": "conscious-portrait",
   "metadata": {},
   "source": [
    "### Viewing Dataset"
   ]
  },
  {
   "cell_type": "code",
   "execution_count": 4,
   "id": "russian-pastor",
   "metadata": {},
   "outputs": [
    {
     "data": {
      "text/html": [
       "<div>\n",
       "<style scoped>\n",
       "    .dataframe tbody tr th:only-of-type {\n",
       "        vertical-align: middle;\n",
       "    }\n",
       "\n",
       "    .dataframe tbody tr th {\n",
       "        vertical-align: top;\n",
       "    }\n",
       "\n",
       "    .dataframe thead th {\n",
       "        text-align: right;\n",
       "    }\n",
       "</style>\n",
       "<table border=\"1\" class=\"dataframe\">\n",
       "  <thead>\n",
       "    <tr style=\"text-align: right;\">\n",
       "      <th></th>\n",
       "      <th>Date</th>\n",
       "      <th>Open</th>\n",
       "      <th>High</th>\n",
       "      <th>Low</th>\n",
       "      <th>Last</th>\n",
       "      <th>Close</th>\n",
       "      <th>Total Trade Quantity</th>\n",
       "      <th>Turnover (Lacs)</th>\n",
       "    </tr>\n",
       "  </thead>\n",
       "  <tbody>\n",
       "    <tr>\n",
       "      <th>0</th>\n",
       "      <td>2018-09-28</td>\n",
       "      <td>234.05</td>\n",
       "      <td>235.95</td>\n",
       "      <td>230.20</td>\n",
       "      <td>233.50</td>\n",
       "      <td>233.75</td>\n",
       "      <td>3069914</td>\n",
       "      <td>7162.35</td>\n",
       "    </tr>\n",
       "    <tr>\n",
       "      <th>1</th>\n",
       "      <td>2018-09-27</td>\n",
       "      <td>234.55</td>\n",
       "      <td>236.80</td>\n",
       "      <td>231.10</td>\n",
       "      <td>233.80</td>\n",
       "      <td>233.25</td>\n",
       "      <td>5082859</td>\n",
       "      <td>11859.95</td>\n",
       "    </tr>\n",
       "    <tr>\n",
       "      <th>2</th>\n",
       "      <td>2018-09-26</td>\n",
       "      <td>240.00</td>\n",
       "      <td>240.00</td>\n",
       "      <td>232.50</td>\n",
       "      <td>235.00</td>\n",
       "      <td>234.25</td>\n",
       "      <td>2240909</td>\n",
       "      <td>5248.60</td>\n",
       "    </tr>\n",
       "    <tr>\n",
       "      <th>3</th>\n",
       "      <td>2018-09-25</td>\n",
       "      <td>233.30</td>\n",
       "      <td>236.75</td>\n",
       "      <td>232.00</td>\n",
       "      <td>236.25</td>\n",
       "      <td>236.10</td>\n",
       "      <td>2349368</td>\n",
       "      <td>5503.90</td>\n",
       "    </tr>\n",
       "    <tr>\n",
       "      <th>4</th>\n",
       "      <td>2018-09-24</td>\n",
       "      <td>233.55</td>\n",
       "      <td>239.20</td>\n",
       "      <td>230.75</td>\n",
       "      <td>234.00</td>\n",
       "      <td>233.30</td>\n",
       "      <td>3423509</td>\n",
       "      <td>7999.55</td>\n",
       "    </tr>\n",
       "  </tbody>\n",
       "</table>\n",
       "</div>"
      ],
      "text/plain": [
       "         Date    Open    High     Low    Last   Close  Total Trade Quantity  \\\n",
       "0  2018-09-28  234.05  235.95  230.20  233.50  233.75               3069914   \n",
       "1  2018-09-27  234.55  236.80  231.10  233.80  233.25               5082859   \n",
       "2  2018-09-26  240.00  240.00  232.50  235.00  234.25               2240909   \n",
       "3  2018-09-25  233.30  236.75  232.00  236.25  236.10               2349368   \n",
       "4  2018-09-24  233.55  239.20  230.75  234.00  233.30               3423509   \n",
       "\n",
       "   Turnover (Lacs)  \n",
       "0          7162.35  \n",
       "1         11859.95  \n",
       "2          5248.60  \n",
       "3          5503.90  \n",
       "4          7999.55  "
      ]
     },
     "execution_count": 4,
     "metadata": {},
     "output_type": "execute_result"
    }
   ],
   "source": [
    "data.head()"
   ]
  },
  {
   "cell_type": "code",
   "execution_count": 5,
   "id": "affiliated-speaker",
   "metadata": {},
   "outputs": [
    {
     "data": {
      "text/plain": [
       "0       233.75\n",
       "1       233.25\n",
       "2       234.25\n",
       "3       236.10\n",
       "4       233.30\n",
       "         ...  \n",
       "2030    118.65\n",
       "2031    117.60\n",
       "2032    120.65\n",
       "2033    120.90\n",
       "2034    121.55\n",
       "Name: Close, Length: 2035, dtype: float64"
      ]
     },
     "execution_count": 5,
     "metadata": {},
     "output_type": "execute_result"
    }
   ],
   "source": [
    "df1=data.reset_index()['Close']\n",
    "df1"
   ]
  },
  {
   "cell_type": "code",
   "execution_count": 6,
   "id": "embedded-style",
   "metadata": {},
   "outputs": [
    {
     "data": {
      "text/plain": [
       "[<matplotlib.lines.Line2D at 0x7f389b236c50>]"
      ]
     },
     "execution_count": 6,
     "metadata": {},
     "output_type": "execute_result"
    },
    {
     "data": {
      "image/png": "[encoded data removed]",
      "text/plain": [
       "<Figure size 432x288 with 1 Axes>"
      ]
     },
     "metadata": {
      "needs_background": "light"
     },
     "output_type": "display_data"
    }
   ],
   "source": [
    "plt.plot(df1)"
   ]
  },
  {
   "cell_type": "code",
   "execution_count": 7,
   "id": "fundamental-lease",
   "metadata": {},
   "outputs": [
    {
     "data": {
      "text/plain": [
       "array([[0.62418301],\n",
       "       [0.62214052],\n",
       "       [0.62622549],\n",
       "       ...,\n",
       "       [0.1621732 ],\n",
       "       [0.16319444],\n",
       "       [0.16584967]])"
      ]
     },
     "execution_count": 7,
     "metadata": {},
     "output_type": "execute_result"
    }
   ],
   "source": [
    "from sklearn.preprocessing import MinMaxScaler\n",
    "scaler=MinMaxScaler(feature_range=(0,1))\n",
    "df1=scaler.fit_transform(np.array(df1).reshape(-1,1))\n",
    "df1"
   ]
  },
  {
   "cell_type": "markdown",
   "id": "apparent-champion",
   "metadata": {},
   "source": [
    "### splitting dataset into train and test split"
   ]
  },
  {
   "cell_type": "code",
   "execution_count": 8,
   "id": "acute-motorcycle",
   "metadata": {},
   "outputs": [],
   "source": [
    "training_size=int(len(df1)*0.65)\n",
    "test_size=len(df1)-training_size\n",
    "train_data,test_data=df1[0:training_size,:],df1[training_size:len(df1),:1]"
   ]
  },
  {
   "cell_type": "markdown",
   "id": "perfect-white",
   "metadata": {},
   "source": [
    "### convert an array of values into a dataset matrix"
   ]
  },
  {
   "cell_type": "code",
   "execution_count": 9,
   "id": "electric-google",
   "metadata": {},
   "outputs": [],
   "source": [
    "import numpy\n",
    "def create_dataset(dataset, time_step=1):\n",
    "    dataX, dataY = [], []\n",
    "    for i in range(len(dataset)-time_step-1):\n",
    "        a = dataset[i:(i+time_step), 0]   \n",
    "        dataX.append(a)\n",
    "        dataY.append(dataset[i + time_step, 0])\n",
    "    return numpy.array(dataX), numpy.array(dataY)\n",
    "# reshape into X=t,t+1,t+2,t+3 and Y=t+4\n",
    "time_step = 100\n",
    "X_train, y_train = create_dataset(train_data, time_step)\n",
    "X_test, ytest = create_dataset(test_data, time_step)"
   ]
  },
  {
   "cell_type": "code",
   "execution_count": 10,
   "id": "verified-mainland",
   "metadata": {},
   "outputs": [
    {
     "name": "stdout",
     "output_type": "stream",
     "text": [
      "(1221, 100)\n",
      "(1221,)\n"
     ]
    },
    {
     "data": {
      "text/plain": [
       "(None, None)"
      ]
     },
     "execution_count": 10,
     "metadata": {},
     "output_type": "execute_result"
    }
   ],
   "source": [
    "print(X_train.shape), print(y_train.shape)"
   ]
  },
  {
   "cell_type": "code",
   "execution_count": 11,
   "id": "played-lounge",
   "metadata": {},
   "outputs": [
    {
     "name": "stdout",
     "output_type": "stream",
     "text": [
      "(612, 100)\n",
      "(612,)\n"
     ]
    },
    {
     "data": {
      "text/plain": [
       "(None, None)"
      ]
     },
     "execution_count": 11,
     "metadata": {},
     "output_type": "execute_result"
    }
   ],
   "source": [
    "print(X_test.shape), print(ytest.shape)"
   ]
  },
  {
   "cell_type": "markdown",
   "id": "opening-abuse",
   "metadata": {},
   "source": [
    "### Reshaping the input & creating Stacked LSTM model"
   ]
  },
  {
   "cell_type": "code",
   "execution_count": 12,
   "id": "norman-shopping",
   "metadata": {},
   "outputs": [
    {
     "name": "stderr",
     "output_type": "stream",
     "text": [
      "WARNING: pip is being invoked by an old script wrapper. This will fail in a future version of pip.\n",
      "Please see https://github.com/pypa/pip/issues/5599 for advice on fixing the underlying issue.\n",
      "To avoid this problem you can invoke Python with '-m pip' instead of running pip directly.\n"
     ]
    },
    {
     "name": "stdout",
     "output_type": "stream",
     "text": [
      "Collecting tensorflow\n",
      "  Downloading tensorflow-2.6.0-cp36-cp36m-manylinux2010_x86_64.whl (458.3 MB)\n",
      "Collecting protobuf>=3.9.2\n",
      "  Downloading protobuf-3.17.3-cp36-cp36m-manylinux_2_5_x86_64.manylinux1_x86_64.whl (1.0 MB)\n",
      "Collecting opt-einsum~=3.3.0\n",
      "  Downloading opt_einsum-3.3.0-py3-none-any.whl (65 kB)\n",
      "Collecting google-pasta~=0.2\n",
      "  Downloading google_pasta-0.2.0-py3-none-any.whl (57 kB)\n",
      "Collecting gast==0.4.0\n",
      "  Downloading gast-0.4.0-py3-none-any.whl (9.8 kB)\n",
      "Requirement already satisfied: typing-extensions~=3.7.4 in /srv/conda/envs/notebook/lib/python3.6/site-packages (from tensorflow) (3.7.4.3)\n",
      "Collecting keras-preprocessing~=1.1.2\n",
      "  Downloading Keras_Preprocessing-1.1.2-py2.py3-none-any.whl (42 kB)\n",
      "Collecting astunparse~=1.6.3\n",
      "  Downloading astunparse-1.6.3-py2.py3-none-any.whl (12 kB)\n",
      "Requirement already satisfied: numpy~=1.19.2 in /srv/conda/envs/notebook/lib/python3.6/site-packages (from tensorflow) (1.19.5)\n",
      "Collecting grpcio<2.0,>=1.37.0\n",
      "  Downloading grpcio-1.39.0-cp36-cp36m-manylinux2014_x86_64.whl (4.3 MB)\n",
      "Collecting h5py~=3.1.0\n",
      "  Downloading h5py-3.1.0-cp36-cp36m-manylinux1_x86_64.whl (4.0 MB)\n",
      "Collecting flatbuffers~=1.12.0\n",
      "  Downloading flatbuffers-1.12-py2.py3-none-any.whl (15 kB)\n",
      "Collecting clang~=5.0\n",
      "  Downloading clang-5.0.tar.gz (30 kB)\n",
      "Requirement already satisfied: six~=1.15.0 in /srv/conda/envs/notebook/lib/python3.6/site-packages (from tensorflow) (1.15.0)\n",
      "Collecting wrapt~=1.12.1\n",
      "  Downloading wrapt-1.12.1.tar.gz (27 kB)\n",
      "Collecting absl-py~=0.10\n",
      "  Downloading absl_py-0.13.0-py3-none-any.whl (132 kB)\n",
      "Collecting tensorflow-estimator~=2.6\n",
      "  Downloading tensorflow_estimator-2.6.0-py2.py3-none-any.whl (462 kB)\n",
      "Collecting keras~=2.6\n",
      "  Downloading keras-2.6.0-py2.py3-none-any.whl (1.3 MB)\n",
      "Collecting tensorboard~=2.6\n",
      "  Downloading tensorboard-2.6.0-py3-none-any.whl (5.6 MB)\n",
      "Requirement already satisfied: wheel~=0.35 in /srv/conda/envs/notebook/lib/python3.6/site-packages (from tensorflow) (0.36.2)\n",
      "Collecting termcolor~=1.1.0\n",
      "  Downloading termcolor-1.1.0.tar.gz (3.9 kB)\n",
      "Collecting cached-property\n",
      "  Downloading cached_property-1.5.2-py2.py3-none-any.whl (7.6 kB)\n",
      "Collecting google-auth-oauthlib<0.5,>=0.4.1\n",
      "  Downloading google_auth_oauthlib-0.4.5-py2.py3-none-any.whl (18 kB)\n",
      "Requirement already satisfied: setuptools>=41.0.0 in /srv/conda/envs/notebook/lib/python3.6/site-packages (from tensorboard~=2.6->tensorflow) (49.6.0.post20210108)\n",
      "Collecting tensorboard-plugin-wit>=1.6.0\n",
      "  Downloading tensorboard_plugin_wit-1.8.0-py3-none-any.whl (781 kB)\n",
      "Collecting markdown>=2.6.8\n",
      "  Downloading Markdown-3.3.4-py3-none-any.whl (97 kB)\n",
      "Collecting werkzeug>=0.11.15\n",
      "  Downloading Werkzeug-2.0.1-py3-none-any.whl (288 kB)\n",
      "Collecting tensorboard-data-server<0.7.0,>=0.6.0\n",
      "  Downloading tensorboard_data_server-0.6.1-py3-none-manylinux2010_x86_64.whl (4.9 MB)\n",
      "Collecting google-auth<2,>=1.6.3\n",
      "  Downloading google_auth-1.35.0-py2.py3-none-any.whl (152 kB)\n",
      "Requirement already satisfied: requests<3,>=2.21.0 in /srv/conda/envs/notebook/lib/python3.6/site-packages (from tensorboard~=2.6->tensorflow) (2.25.1)\n",
      "Collecting rsa<5,>=3.1.4\n",
      "  Downloading rsa-4.7.2-py3-none-any.whl (34 kB)\n",
      "Collecting cachetools<5.0,>=2.0.0\n",
      "  Downloading cachetools-4.2.2-py3-none-any.whl (11 kB)\n",
      "Collecting pyasn1-modules>=0.2.1\n",
      "  Downloading pyasn1_modules-0.2.8-py2.py3-none-any.whl (155 kB)\n",
      "Collecting requests-oauthlib>=0.7.0\n",
      "  Downloading requests_oauthlib-1.3.0-py2.py3-none-any.whl (23 kB)\n",
      "Requirement already satisfied: importlib-metadata in /srv/conda/envs/notebook/lib/python3.6/site-packages (from markdown>=2.6.8->tensorboard~=2.6->tensorflow) (3.4.0)\n",
      "Collecting pyasn1<0.5.0,>=0.4.6\n",
      "  Downloading pyasn1-0.4.8-py2.py3-none-any.whl (77 kB)\n",
      "Requirement already satisfied: chardet<5,>=3.0.2 in /srv/conda/envs/notebook/lib/python3.6/site-packages (from requests<3,>=2.21.0->tensorboard~=2.6->tensorflow) (4.0.0)\n",
      "Requirement already satisfied: idna<3,>=2.5 in /srv/conda/envs/notebook/lib/python3.6/site-packages (from requests<3,>=2.21.0->tensorboard~=2.6->tensorflow) (2.10)\n",
      "Requirement already satisfied: urllib3<1.27,>=1.21.1 in /srv/conda/envs/notebook/lib/python3.6/site-packages (from requests<3,>=2.21.0->tensorboard~=2.6->tensorflow) (1.26.3)\n",
      "Requirement already satisfied: certifi>=2017.4.17 in /srv/conda/envs/notebook/lib/python3.6/site-packages (from requests<3,>=2.21.0->tensorboard~=2.6->tensorflow) (2020.12.5)\n",
      "Requirement already satisfied: oauthlib>=3.0.0 in /srv/conda/envs/notebook/lib/python3.6/site-packages (from requests-oauthlib>=0.7.0->google-auth-oauthlib<0.5,>=0.4.1->tensorboard~=2.6->tensorflow) (3.0.1)\n",
      "Requirement already satisfied: dataclasses in /srv/conda/envs/notebook/lib/python3.6/site-packages (from werkzeug>=0.11.15->tensorboard~=2.6->tensorflow) (0.7)\n",
      "Requirement already satisfied: zipp>=0.5 in /srv/conda/envs/notebook/lib/python3.6/site-packages (from importlib-metadata->markdown>=2.6.8->tensorboard~=2.6->tensorflow) (3.4.0)\n",
      "Building wheels for collected packages: clang, termcolor, wrapt\n",
      "  Building wheel for clang (setup.py): started\n",
      "  Building wheel for clang (setup.py): finished with status 'done'\n",
      "  Created wheel for clang: filename=clang-5.0-py3-none-any.whl size=30702 sha256=ff083eb93f3403361079e95e4ab13d77802eaa8d52e03245f558f5f93fb1ce2e\n",
      "  Stored in directory: /home/jovyan/.cache/pip/wheels/22/4c/94/0583f60c9c5b6024ed64f290cb2d43b06bb4f75577dc3c93a7\n",
      "  Building wheel for termcolor (setup.py): started\n",
      "  Building wheel for termcolor (setup.py): finished with status 'done'\n",
      "  Created wheel for termcolor: filename=termcolor-1.1.0-py3-none-any.whl size=4829 sha256=cf20d2886ea5235504a30649e3a4264868b59abd79a8f80a60536560054d427f\n",
      "  Stored in directory: /home/jovyan/.cache/pip/wheels/93/2a/eb/e58dbcbc963549ee4f065ff80a59f274cc7210b6eab962acdc\n",
      "  Building wheel for wrapt (setup.py): started\n",
      "  Building wheel for wrapt (setup.py): finished with status 'done'\n",
      "  Created wheel for wrapt: filename=wrapt-1.12.1-cp36-cp36m-linux_x86_64.whl size=69762 sha256=09c382486a0dd809c859dcd44bf4bec1fa11d6dddf695a70af7a5a751b7ea238\n",
      "  Stored in directory: /home/jovyan/.cache/pip/wheels/32/42/7f/23cae9ff6ef66798d00dc5d659088e57dbba01566f6c60db63\n",
      "Successfully built clang termcolor wrapt\n",
      "Installing collected packages: pyasn1, rsa, pyasn1-modules, cachetools, requests-oauthlib, google-auth, werkzeug, tensorboard-plugin-wit, tensorboard-data-server, protobuf, markdown, grpcio, google-auth-oauthlib, cached-property, absl-py, wrapt, termcolor, tensorflow-estimator, tensorboard, opt-einsum, keras-preprocessing, keras, h5py, google-pasta, gast, flatbuffers, clang, astunparse, tensorflow\n",
      "Successfully installed absl-py-0.13.0 astunparse-1.6.3 cached-property-1.5.2 cachetools-4.2.2 clang-5.0 flatbuffers-1.12 gast-0.4.0 google-auth-1.35.0 google-auth-oauthlib-0.4.5 google-pasta-0.2.0 grpcio-1.39.0 h5py-3.1.0 keras-2.6.0 keras-preprocessing-1.1.2 markdown-3.3.4 opt-einsum-3.3.0 protobuf-3.17.3 pyasn1-0.4.8 pyasn1-modules-0.2.8 requests-oauthlib-1.3.0 rsa-4.7.2 tensorboard-2.6.0 tensorboard-data-server-0.6.1 tensorboard-plugin-wit-1.8.0 tensorflow-2.6.0 tensorflow-estimator-2.6.0 termcolor-1.1.0 werkzeug-2.0.1 wrapt-1.12.1\n"
     ]
    }
   ],
   "source": [
    "# reshape input to be [samples, time steps, features] which is required for LSTM\n",
    "X_train =X_train.reshape(X_train.shape[0],X_train.shape[1] , 1)\n",
    "X_test = X_test.reshape(X_test.shape[0],X_test.shape[1] , 1)\n",
    "\n",
    "### Create the Stacked LSTM model\n",
    "import pip\n",
    "pip.main(['install','tensorflow'])\n",
    "from tensorflow.keras.models import Sequential\n",
    "from tensorflow.keras.layers import Dense\n",
    "from tensorflow.keras.layers import LSTM"
   ]
  },
  {
   "cell_type": "code",
   "execution_count": 13,
   "id": "breathing-loading",
   "metadata": {},
   "outputs": [],
   "source": [
    "model=Sequential()\n",
    "model.add(LSTM(50,return_sequences=True,input_shape=(100,1)))\n",
    "model.add(LSTM(50,return_sequences=True))\n",
    "model.add(LSTM(50))\n",
    "model.add(Dense(1))\n",
    "model.compile(loss='mean_squared_error',optimizer='adam')"
   ]
  },
  {
   "cell_type": "code",
   "execution_count": 14,
   "id": "vanilla-fashion",
   "metadata": {},
   "outputs": [
    {
     "name": "stdout",
     "output_type": "stream",
     "text": [
      "Model: \"sequential\"\n",
      "_________________________________________________________________\n",
      "Layer (type)                 Output Shape              Param #   \n",
      "=================================================================\n",
      "lstm (LSTM)                  (None, 100, 50)           10400     \n",
      "_________________________________________________________________\n",
      "lstm_1 (LSTM)                (None, 100, 50)           20200     \n",
      "_________________________________________________________________\n",
      "lstm_2 (LSTM)                (None, 50)                20200     \n",
      "_________________________________________________________________\n",
      "dense (Dense)                (None, 1)                 51        \n",
      "=================================================================\n",
      "Total params: 50,851\n",
      "Trainable params: 50,851\n",
      "Non-trainable params: 0\n",
      "_________________________________________________________________\n"
     ]
    }
   ],
   "source": [
    "model.summary()"
   ]
  },
  {
   "cell_type": "code",
   "execution_count": 15,
   "id": "confidential-boards",
   "metadata": {},
   "outputs": [
    {
     "name": "stdout",
     "output_type": "stream",
     "text": [
      "Model: \"sequential\"\n",
      "_________________________________________________________________\n",
      "Layer (type)                 Output Shape              Param #   \n",
      "=================================================================\n",
      "lstm (LSTM)                  (None, 100, 50)           10400     \n",
      "_________________________________________________________________\n",
      "lstm_1 (LSTM)                (None, 100, 50)           20200     \n",
      "_________________________________________________________________\n",
      "lstm_2 (LSTM)                (None, 50)                20200     \n",
      "_________________________________________________________________\n",
      "dense (Dense)                (None, 1)                 51        \n",
      "=================================================================\n",
      "Total params: 50,851\n",
      "Trainable params: 50,851\n",
      "Non-trainable params: 0\n",
      "_________________________________________________________________\n"
     ]
    }
   ],
   "source": [
    "model.summary()"
   ]
  },
  {
   "cell_type": "markdown",
   "id": "introductory-denver",
   "metadata": {},
   "source": [
    "### Model Fitting"
   ]
  },
  {
   "cell_type": "code",
   "execution_count": 16,
   "id": "unable-greensboro",
   "metadata": {},
   "outputs": [
    {
     "name": "stdout",
     "output_type": "stream",
     "text": [
      "Epoch 1/100\n",
      "20/20 [==============================] - 15s 537ms/step - loss: 0.0286 - val_loss: 0.0033\n",
      "Epoch 2/100\n",
      "20/20 [==============================] - 10s 484ms/step - loss: 0.0030 - val_loss: 0.0010\n",
      "Epoch 3/100\n",
      "20/20 [==============================] - 10s 480ms/step - loss: 0.0018 - val_loss: 8.5805e-04\n",
      "Epoch 4/100\n",
      "20/20 [==============================] - 10s 484ms/step - loss: 0.0017 - val_loss: 0.0012\n",
      "Epoch 5/100\n",
      "20/20 [==============================] - 10s 483ms/step - loss: 0.0014 - val_loss: 0.0011\n",
      "Epoch 6/100\n",
      "20/20 [==============================] - 10s 479ms/step - loss: 0.0016 - val_loss: 0.0014\n",
      "Epoch 7/100\n",
      "20/20 [==============================] - 9s 473ms/step - loss: 0.0013 - val_loss: 0.0011\n",
      "Epoch 8/100\n",
      "20/20 [==============================] - 9s 470ms/step - loss: 0.0013 - val_loss: 0.0010\n",
      "Epoch 9/100\n",
      "20/20 [==============================] - 9s 479ms/step - loss: 0.0012 - val_loss: 8.0583e-04\n",
      "Epoch 10/100\n",
      "20/20 [==============================] - 10s 484ms/step - loss: 0.0013 - val_loss: 9.4287e-04\n",
      "Epoch 11/100\n",
      "20/20 [==============================] - 9s 437ms/step - loss: 0.0012 - val_loss: 8.9345e-04\n",
      "Epoch 12/100\n",
      "20/20 [==============================] - 8s 400ms/step - loss: 0.0011 - val_loss: 9.0916e-04\n",
      "Epoch 13/100\n",
      "20/20 [==============================] - 10s 485ms/step - loss: 0.0011 - val_loss: 0.0010\n",
      "Epoch 14/100\n",
      "20/20 [==============================] - 9s 478ms/step - loss: 9.9404e-04 - val_loss: 0.0010\n",
      "Epoch 15/100\n",
      "20/20 [==============================] - 9s 470ms/step - loss: 0.0011 - val_loss: 0.0011\n",
      "Epoch 16/100\n",
      "20/20 [==============================] - 10s 483ms/step - loss: 9.1081e-04 - val_loss: 9.9460e-04\n",
      "Epoch 17/100\n",
      "20/20 [==============================] - 10s 479ms/step - loss: 0.0010 - val_loss: 0.0011\n",
      "Epoch 18/100\n",
      "20/20 [==============================] - 10s 484ms/step - loss: 8.5449e-04 - val_loss: 8.1710e-04\n",
      "Epoch 19/100\n",
      "20/20 [==============================] - 10s 485ms/step - loss: 8.8487e-04 - val_loss: 0.0011\n",
      "Epoch 20/100\n",
      "20/20 [==============================] - 9s 474ms/step - loss: 9.6030e-04 - val_loss: 8.0927e-04\n",
      "Epoch 21/100\n",
      "20/20 [==============================] - 10s 480ms/step - loss: 8.1040e-04 - val_loss: 8.0571e-04\n",
      "Epoch 22/100\n",
      "20/20 [==============================] - 10s 479ms/step - loss: 9.6679e-04 - val_loss: 9.7149e-04\n",
      "Epoch 23/100\n",
      "20/20 [==============================] - 10s 484ms/step - loss: 7.9810e-04 - val_loss: 6.4000e-04\n",
      "Epoch 24/100\n",
      "20/20 [==============================] - 10s 490ms/step - loss: 9.2571e-04 - val_loss: 7.5069e-04\n",
      "Epoch 25/100\n",
      "20/20 [==============================] - 9s 479ms/step - loss: 8.6952e-04 - val_loss: 0.0012\n",
      "Epoch 26/100\n",
      "20/20 [==============================] - 9s 473ms/step - loss: 7.8390e-04 - val_loss: 9.1665e-04\n",
      "Epoch 27/100\n",
      "20/20 [==============================] - 9s 452ms/step - loss: 7.5512e-04 - val_loss: 6.7336e-04\n",
      "Epoch 28/100\n",
      "20/20 [==============================] - 9s 441ms/step - loss: 7.1115e-04 - val_loss: 6.3340e-04\n",
      "Epoch 29/100\n",
      "20/20 [==============================] - 9s 479ms/step - loss: 9.7775e-04 - val_loss: 6.6220e-04\n",
      "Epoch 30/100\n",
      "20/20 [==============================] - 9s 474ms/step - loss: 6.8850e-04 - val_loss: 7.3929e-04\n",
      "Epoch 31/100\n",
      "20/20 [==============================] - 9s 474ms/step - loss: 6.5523e-04 - val_loss: 6.4317e-04\n",
      "Epoch 32/100\n",
      "20/20 [==============================] - 10s 484ms/step - loss: 7.1855e-04 - val_loss: 6.9452e-04\n",
      "Epoch 33/100\n",
      "20/20 [==============================] - 9s 474ms/step - loss: 6.9930e-04 - val_loss: 7.5172e-04\n",
      "Epoch 34/100\n",
      "20/20 [==============================] - 10s 484ms/step - loss: 8.7395e-04 - val_loss: 9.7996e-04\n",
      "Epoch 35/100\n",
      "20/20 [==============================] - 10s 484ms/step - loss: 7.1974e-04 - val_loss: 9.0772e-04\n",
      "Epoch 36/100\n",
      "20/20 [==============================] - 9s 463ms/step - loss: 6.5181e-04 - val_loss: 6.3615e-04\n",
      "Epoch 37/100\n",
      "20/20 [==============================] - 9s 468ms/step - loss: 6.4456e-04 - val_loss: 7.3800e-04\n",
      "Epoch 38/100\n",
      "20/20 [==============================] - 10s 485ms/step - loss: 6.3600e-04 - val_loss: 5.5698e-04\n",
      "Epoch 39/100\n",
      "20/20 [==============================] - 9s 473ms/step - loss: 7.3145e-04 - val_loss: 6.7562e-04\n",
      "Epoch 40/100\n",
      "20/20 [==============================] - 10s 484ms/step - loss: 6.4578e-04 - val_loss: 7.0470e-04\n",
      "Epoch 41/100\n",
      "20/20 [==============================] - 10s 480ms/step - loss: 6.1264e-04 - val_loss: 5.7850e-04\n",
      "Epoch 42/100\n",
      "20/20 [==============================] - 10s 485ms/step - loss: 6.2037e-04 - val_loss: 5.3401e-04\n",
      "Epoch 43/100\n",
      "20/20 [==============================] - 10s 481ms/step - loss: 5.8834e-04 - val_loss: 6.0314e-04\n",
      "Epoch 44/100\n",
      "20/20 [==============================] - 9s 441ms/step - loss: 5.9445e-04 - val_loss: 5.2448e-04\n",
      "Epoch 45/100\n",
      "20/20 [==============================] - 8s 399ms/step - loss: 5.6835e-04 - val_loss: 5.8355e-04\n",
      "Epoch 46/100\n",
      "20/20 [==============================] - 9s 472ms/step - loss: 5.3978e-04 - val_loss: 6.9845e-04\n",
      "Epoch 47/100\n",
      "20/20 [==============================] - 9s 474ms/step - loss: 5.3470e-04 - val_loss: 6.3859e-04\n",
      "Epoch 48/100\n",
      "20/20 [==============================] - 10s 480ms/step - loss: 5.4411e-04 - val_loss: 6.9542e-04\n",
      "Epoch 49/100\n",
      "20/20 [==============================] - 9s 478ms/step - loss: 5.5885e-04 - val_loss: 5.0728e-04\n",
      "Epoch 50/100\n",
      "20/20 [==============================] - 10s 480ms/step - loss: 5.1862e-04 - val_loss: 8.4642e-04\n",
      "Epoch 51/100\n",
      "20/20 [==============================] - 9s 474ms/step - loss: 5.9402e-04 - val_loss: 6.4241e-04\n",
      "Epoch 52/100\n",
      "20/20 [==============================] - 10s 484ms/step - loss: 5.1519e-04 - val_loss: 5.0774e-04\n",
      "Epoch 53/100\n",
      "20/20 [==============================] - 10s 489ms/step - loss: 5.0945e-04 - val_loss: 5.7919e-04\n",
      "Epoch 54/100\n",
      "20/20 [==============================] - 10s 483ms/step - loss: 5.2905e-04 - val_loss: 6.4187e-04\n",
      "Epoch 55/100\n",
      "20/20 [==============================] - 9s 479ms/step - loss: 6.4745e-04 - val_loss: 4.4343e-04\n",
      "Epoch 56/100\n",
      "20/20 [==============================] - 10s 490ms/step - loss: 5.6094e-04 - val_loss: 6.3278e-04\n",
      "Epoch 57/100\n",
      "20/20 [==============================] - 10s 489ms/step - loss: 5.3773e-04 - val_loss: 6.4777e-04\n",
      "Epoch 58/100\n",
      "20/20 [==============================] - 9s 475ms/step - loss: 5.0052e-04 - val_loss: 5.0077e-04\n",
      "Epoch 59/100\n",
      "20/20 [==============================] - 10s 489ms/step - loss: 4.9693e-04 - val_loss: 6.9416e-04\n",
      "Epoch 60/100\n",
      "20/20 [==============================] - 10s 484ms/step - loss: 5.6938e-04 - val_loss: 4.1713e-04\n",
      "Epoch 61/100\n",
      "20/20 [==============================] - 9s 478ms/step - loss: 5.7018e-04 - val_loss: 4.4007e-04\n",
      "Epoch 62/100\n",
      "20/20 [==============================] - 10s 484ms/step - loss: 4.7990e-04 - val_loss: 4.3423e-04\n",
      "Epoch 63/100\n",
      "20/20 [==============================] - 9s 473ms/step - loss: 4.5995e-04 - val_loss: 4.6336e-04\n",
      "Epoch 64/100\n",
      "20/20 [==============================] - 10s 479ms/step - loss: 4.6005e-04 - val_loss: 4.5913e-04\n",
      "Epoch 65/100\n",
      "20/20 [==============================] - 10s 484ms/step - loss: 5.1115e-04 - val_loss: 4.8671e-04\n",
      "Epoch 66/100\n",
      "20/20 [==============================] - 9s 473ms/step - loss: 4.7166e-04 - val_loss: 4.0153e-04\n",
      "Epoch 67/100\n",
      "20/20 [==============================] - 9s 469ms/step - loss: 4.3868e-04 - val_loss: 4.5386e-04\n",
      "Epoch 68/100\n",
      "20/20 [==============================] - 9s 472ms/step - loss: 4.3014e-04 - val_loss: 6.0171e-04\n",
      "Epoch 69/100\n",
      "20/20 [==============================] - 9s 457ms/step - loss: 4.5246e-04 - val_loss: 3.4609e-04\n",
      "Epoch 70/100\n",
      "20/20 [==============================] - 9s 447ms/step - loss: 4.6167e-04 - val_loss: 6.6697e-04\n",
      "Epoch 71/100\n",
      "20/20 [==============================] - 9s 464ms/step - loss: 5.8287e-04 - val_loss: 3.3349e-04\n",
      "Epoch 72/100\n",
      "20/20 [==============================] - 9s 432ms/step - loss: 5.0593e-04 - val_loss: 5.1820e-04\n",
      "Epoch 73/100\n",
      "20/20 [==============================] - 9s 474ms/step - loss: 3.9029e-04 - val_loss: 4.2317e-04\n",
      "Epoch 74/100\n",
      "20/20 [==============================] - 9s 472ms/step - loss: 3.8628e-04 - val_loss: 3.6977e-04\n",
      "Epoch 75/100\n",
      "20/20 [==============================] - 9s 467ms/step - loss: 3.7018e-04 - val_loss: 4.1504e-04\n",
      "Epoch 76/100\n",
      "20/20 [==============================] - 9s 472ms/step - loss: 4.0946e-04 - val_loss: 3.3880e-04\n",
      "Epoch 77/100\n",
      "20/20 [==============================] - 9s 478ms/step - loss: 3.5133e-04 - val_loss: 3.3700e-04\n",
      "Epoch 78/100\n",
      "20/20 [==============================] - 7s 369ms/step - loss: 3.6749e-04 - val_loss: 3.7678e-04\n",
      "Epoch 79/100\n",
      "20/20 [==============================] - 7s 363ms/step - loss: 3.9449e-04 - val_loss: 3.8581e-04\n",
      "Epoch 80/100\n",
      "20/20 [==============================] - 8s 405ms/step - loss: 3.2386e-04 - val_loss: 4.4992e-04\n",
      "Epoch 81/100\n",
      "20/20 [==============================] - 9s 463ms/step - loss: 4.4760e-04 - val_loss: 3.1943e-04\n",
      "Epoch 82/100\n",
      "20/20 [==============================] - 9s 469ms/step - loss: 3.3558e-04 - val_loss: 3.5250e-04\n",
      "Epoch 83/100\n",
      "20/20 [==============================] - 10s 481ms/step - loss: 3.8723e-04 - val_loss: 3.3912e-04\n",
      "Epoch 84/100\n",
      "20/20 [==============================] - 10s 485ms/step - loss: 3.6396e-04 - val_loss: 3.8263e-04\n",
      "Epoch 85/100\n",
      "20/20 [==============================] - 9s 480ms/step - loss: 2.9783e-04 - val_loss: 2.9134e-04\n",
      "Epoch 86/100\n",
      "20/20 [==============================] - 10s 488ms/step - loss: 3.0414e-04 - val_loss: 2.8304e-04\n",
      "Epoch 87/100\n",
      "20/20 [==============================] - 10s 485ms/step - loss: 3.8570e-04 - val_loss: 3.7402e-04\n",
      "Epoch 88/100\n",
      "20/20 [==============================] - 10s 488ms/step - loss: 3.0358e-04 - val_loss: 2.9148e-04\n",
      "Epoch 89/100\n",
      "20/20 [==============================] - 10s 479ms/step - loss: 2.9023e-04 - val_loss: 2.6152e-04\n",
      "Epoch 90/100\n",
      "20/20 [==============================] - 10s 489ms/step - loss: 3.1107e-04 - val_loss: 3.1620e-04\n",
      "Epoch 91/100\n",
      "20/20 [==============================] - 9s 478ms/step - loss: 2.8324e-04 - val_loss: 3.0052e-04\n",
      "Epoch 92/100\n",
      "20/20 [==============================] - 9s 479ms/step - loss: 3.1077e-04 - val_loss: 3.0177e-04\n",
      "Epoch 93/100\n",
      "20/20 [==============================] - 9s 469ms/step - loss: 2.6495e-04 - val_loss: 2.8669e-04\n",
      "Epoch 94/100\n",
      "20/20 [==============================] - 10s 483ms/step - loss: 2.6295e-04 - val_loss: 2.8505e-04\n",
      "Epoch 95/100\n",
      "20/20 [==============================] - 9s 479ms/step - loss: 2.6998e-04 - val_loss: 2.7593e-04\n",
      "Epoch 96/100\n",
      "20/20 [==============================] - 10s 480ms/step - loss: 2.8449e-04 - val_loss: 2.2461e-04\n",
      "Epoch 97/100\n",
      "20/20 [==============================] - 9s 475ms/step - loss: 3.4613e-04 - val_loss: 2.3020e-04\n",
      "Epoch 98/100\n",
      "20/20 [==============================] - 10s 480ms/step - loss: 2.9746e-04 - val_loss: 2.5617e-04\n",
      "Epoch 99/100\n",
      "20/20 [==============================] - 10s 485ms/step - loss: 2.7044e-04 - val_loss: 2.2933e-04\n",
      "Epoch 100/100\n",
      "20/20 [==============================] - 9s 479ms/step - loss: 2.8127e-04 - val_loss: 2.3619e-04\n"
     ]
    },
    {
     "data": {
      "text/plain": [
       "<keras.callbacks.History at 0x7f385443e9b0>"
      ]
     },
     "execution_count": 16,
     "metadata": {},
     "output_type": "execute_result"
    }
   ],
   "source": [
    "model.fit(X_train,y_train,validation_data=(X_test,ytest),epochs=100,batch_size=64,verbose=1)"
   ]
  },
  {
   "cell_type": "code",
   "execution_count": 17,
   "id": "meaning-julian",
   "metadata": {},
   "outputs": [],
   "source": [
    "import tensorflow as tf"
   ]
  },
  {
   "cell_type": "markdown",
   "id": "eight-psychiatry",
   "metadata": {},
   "source": [
    "### Prediction and performance metrics"
   ]
  },
  {
   "cell_type": "code",
   "execution_count": 18,
   "id": "boring-electric",
   "metadata": {},
   "outputs": [],
   "source": [
    "train_predict=model.predict(X_train)\n",
    "test_predict=model.predict(X_test)"
   ]
  },
  {
   "cell_type": "markdown",
   "id": "iraqi-vermont",
   "metadata": {},
   "source": [
    "### Transform back to original form"
   ]
  },
  {
   "cell_type": "code",
   "execution_count": 19,
   "id": "surprising-subscription",
   "metadata": {},
   "outputs": [],
   "source": [
    "train_predict=scaler.inverse_transform(train_predict)\n",
    "test_predict=scaler.inverse_transform(test_predict)"
   ]
  },
  {
   "cell_type": "markdown",
   "id": "logical-forth",
   "metadata": {},
   "source": [
    "### Calculate RMSE performance metrics"
   ]
  },
  {
   "cell_type": "code",
   "execution_count": 20,
   "id": "excited-biodiversity",
   "metadata": {},
   "outputs": [
    {
     "data": {
      "text/plain": [
       "164.2267176419147"
      ]
     },
     "execution_count": 20,
     "metadata": {},
     "output_type": "execute_result"
    }
   ],
   "source": [
    "import math\n",
    "from sklearn.metrics import mean_squared_error\n",
    "math.sqrt(mean_squared_error(y_train,train_predict))"
   ]
  },
  {
   "cell_type": "markdown",
   "id": "injured-campus",
   "metadata": {},
   "source": [
    "### Test Data RMSE"
   ]
  },
  {
   "cell_type": "code",
   "execution_count": 21,
   "id": "honey-panel",
   "metadata": {},
   "outputs": [
    {
     "data": {
      "text/plain": [
       "115.61574022214118"
      ]
     },
     "execution_count": 21,
     "metadata": {},
     "output_type": "execute_result"
    }
   ],
   "source": [
    "math.sqrt(mean_squared_error(ytest,test_predict))"
   ]
  },
  {
   "cell_type": "markdown",
   "id": "private-drill",
   "metadata": {},
   "source": [
    "## Plot"
   ]
  },
  {
   "cell_type": "markdown",
   "id": "front-savannah",
   "metadata": {},
   "source": [
    "### Shifting train predictions for plotting"
   ]
  },
  {
   "cell_type": "code",
   "execution_count": 22,
   "id": "balanced-efficiency",
   "metadata": {},
   "outputs": [],
   "source": [
    "look_back=100\n",
    "trainPredictPlot = numpy.empty_like(df1)\n",
    "trainPredictPlot[:, :] = np.nan\n",
    "trainPredictPlot[look_back:len(train_predict)+look_back, :] = train_predict"
   ]
  },
  {
   "cell_type": "markdown",
   "id": "national-yeast",
   "metadata": {},
   "source": [
    "### Shifting test predictions for plotting"
   ]
  },
  {
   "cell_type": "code",
   "execution_count": 23,
   "id": "hidden-drove",
   "metadata": {},
   "outputs": [],
   "source": [
    "testPredictPlot = numpy.empty_like(df1)\n",
    "testPredictPlot[:, :] = numpy.nan\n",
    "testPredictPlot[len(train_predict)+(look_back*2)+1:len(df1)-1, :] = test_predict"
   ]
  },
  {
   "cell_type": "markdown",
   "id": "adult-frontier",
   "metadata": {},
   "source": [
    "### Plot baseline and predictions"
   ]
  },
  {
   "cell_type": "code",
   "execution_count": 24,
   "id": "listed-conservation",
   "metadata": {},
   "outputs": [
    {
     "data": {
      "image/png": "[encoded data removed]",
      "text/plain": [
       "<Figure size 432x288 with 1 Axes>"
      ]
     },
     "metadata": {
      "needs_background": "light"
     },
     "output_type": "display_data"
    }
   ],
   "source": [
    "plt.plot(scaler.inverse_transform(df1))\n",
    "plt.plot(trainPredictPlot)\n",
    "plt.plot(testPredictPlot)\n",
    "plt.show()"
   ]
  },
  {
   "cell_type": "code",
   "execution_count": 25,
   "id": "corporate-anthony",
   "metadata": {},
   "outputs": [
    {
     "data": {
      "text/plain": [
       "713"
      ]
     },
     "execution_count": 25,
     "metadata": {},
     "output_type": "execute_result"
    }
   ],
   "source": [
    "len(test_data)"
   ]
  },
  {
   "cell_type": "code",
   "execution_count": 54,
   "id": "stuffed-equipment",
   "metadata": {},
   "outputs": [
    {
     "data": {
      "text/plain": [
       "(1, 100)"
      ]
     },
     "execution_count": 54,
     "metadata": {},
     "output_type": "execute_result"
    }
   ],
   "source": [
    "x_input=test_data[613:].reshape(1,-1)\n",
    "x_input.shape"
   ]
  },
  {
   "cell_type": "code",
   "execution_count": 55,
   "id": "continuous-australian",
   "metadata": {},
   "outputs": [],
   "source": [
    "temp_input=list(x_input)\n",
    "temp_input=temp_input[0].tolist()"
   ]
  },
  {
   "cell_type": "code",
   "execution_count": 56,
   "id": "front-advice",
   "metadata": {},
   "outputs": [
    {
     "name": "stdout",
     "output_type": "stream",
     "text": [
      "[0.16214971]\n",
      "101\n",
      "1 day input [0.13848039 0.14011438 0.13888889 0.13541667 0.14011438 0.1380719\n",
      " 0.13071895 0.13071895 0.12867647 0.11846405 0.14644608 0.14808007\n",
      " 0.15910948 0.15992647 0.15788399 0.16441993 0.17892157 0.17933007\n",
      " 0.19260621 0.20812908 0.18974673 0.18055556 0.18239379 0.17708333\n",
      " 0.17810458 0.18055556 0.17810458 0.17851307 0.19607843 0.18913399\n",
      " 0.18954248 0.19403595 0.19444444 0.20200163 0.19771242 0.19934641\n",
      " 0.19873366 0.1997549  0.2128268  0.21568627 0.20445261 0.21772876\n",
      " 0.21098856 0.21425654 0.19750817 0.18811275 0.17851307 0.17381536\n",
      " 0.16033497 0.16564542 0.17116013 0.17422386 0.18035131 0.17401961\n",
      " 0.16278595 0.16973039 0.17810458 0.17034314 0.16830065 0.17279412\n",
      " 0.17544935 0.18382353 0.19138072 0.18913399 0.19097222 0.17238562\n",
      " 0.16830065 0.1693219  0.17177288 0.16156046 0.14971405 0.1503268\n",
      " 0.15196078 0.14726307 0.14501634 0.14603758 0.12479575 0.13112745\n",
      " 0.11397059 0.1190768  0.12377451 0.13562092 0.12908497 0.13459967\n",
      " 0.12806373 0.13031046 0.12724673 0.13521242 0.14522059 0.15257353\n",
      " 0.14848856 0.14338235 0.14562908 0.15236928 0.15400327 0.14971405\n",
      " 0.1621732  0.16319444 0.16584967 0.16214971]\n",
      "1 day output [[0.16363166]]\n",
      "2 day input [0.14011438 0.13888889 0.13541667 0.14011438 0.1380719  0.13071895\n",
      " 0.13071895 0.12867647 0.11846405 0.14644608 0.14808007 0.15910948\n",
      " 0.15992647 0.15788399 0.16441993 0.17892157 0.17933007 0.19260621\n",
      " 0.20812908 0.18974673 0.18055556 0.18239379 0.17708333 0.17810458\n",
      " 0.18055556 0.17810458 0.17851307 0.19607843 0.18913399 0.18954248\n",
      " 0.19403595 0.19444444 0.20200163 0.19771242 0.19934641 0.19873366\n",
      " 0.1997549  0.2128268  0.21568627 0.20445261 0.21772876 0.21098856\n",
      " 0.21425654 0.19750817 0.18811275 0.17851307 0.17381536 0.16033497\n",
      " 0.16564542 0.17116013 0.17422386 0.18035131 0.17401961 0.16278595\n",
      " 0.16973039 0.17810458 0.17034314 0.16830065 0.17279412 0.17544935\n",
      " 0.18382353 0.19138072 0.18913399 0.19097222 0.17238562 0.16830065\n",
      " 0.1693219  0.17177288 0.16156046 0.14971405 0.1503268  0.15196078\n",
      " 0.14726307 0.14501634 0.14603758 0.12479575 0.13112745 0.11397059\n",
      " 0.1190768  0.12377451 0.13562092 0.12908497 0.13459967 0.12806373\n",
      " 0.13031046 0.12724673 0.13521242 0.14522059 0.15257353 0.14848856\n",
      " 0.14338235 0.14562908 0.15236928 0.15400327 0.14971405 0.1621732\n",
      " 0.16319444 0.16584967 0.16214971 0.16363166]\n",
      "2 day output [[0.16369888]]\n",
      "3 day input [0.13888889 0.13541667 0.14011438 0.1380719  0.13071895 0.13071895\n",
      " 0.12867647 0.11846405 0.14644608 0.14808007 0.15910948 0.15992647\n",
      " 0.15788399 0.16441993 0.17892157 0.17933007 0.19260621 0.20812908\n",
      " 0.18974673 0.18055556 0.18239379 0.17708333 0.17810458 0.18055556\n",
      " 0.17810458 0.17851307 0.19607843 0.18913399 0.18954248 0.19403595\n",
      " 0.19444444 0.20200163 0.19771242 0.19934641 0.19873366 0.1997549\n",
      " 0.2128268  0.21568627 0.20445261 0.21772876 0.21098856 0.21425654\n",
      " 0.19750817 0.18811275 0.17851307 0.17381536 0.16033497 0.16564542\n",
      " 0.17116013 0.17422386 0.18035131 0.17401961 0.16278595 0.16973039\n",
      " 0.17810458 0.17034314 0.16830065 0.17279412 0.17544935 0.18382353\n",
      " 0.19138072 0.18913399 0.19097222 0.17238562 0.16830065 0.1693219\n",
      " 0.17177288 0.16156046 0.14971405 0.1503268  0.15196078 0.14726307\n",
      " 0.14501634 0.14603758 0.12479575 0.13112745 0.11397059 0.1190768\n",
      " 0.12377451 0.13562092 0.12908497 0.13459967 0.12806373 0.13031046\n",
      " 0.12724673 0.13521242 0.14522059 0.15257353 0.14848856 0.14338235\n",
      " 0.14562908 0.15236928 0.15400327 0.14971405 0.1621732  0.16319444\n",
      " 0.16584967 0.16214971 0.16363166 0.16369888]\n",
      "3 day output [[0.1632071]]\n",
      "4 day input [0.13541667 0.14011438 0.1380719  0.13071895 0.13071895 0.12867647\n",
      " 0.11846405 0.14644608 0.14808007 0.15910948 0.15992647 0.15788399\n",
      " 0.16441993 0.17892157 0.17933007 0.19260621 0.20812908 0.18974673\n",
      " 0.18055556 0.18239379 0.17708333 0.17810458 0.18055556 0.17810458\n",
      " 0.17851307 0.19607843 0.18913399 0.18954248 0.19403595 0.19444444\n",
      " 0.20200163 0.19771242 0.19934641 0.19873366 0.1997549  0.2128268\n",
      " 0.21568627 0.20445261 0.21772876 0.21098856 0.21425654 0.19750817\n",
      " 0.18811275 0.17851307 0.17381536 0.16033497 0.16564542 0.17116013\n",
      " 0.17422386 0.18035131 0.17401961 0.16278595 0.16973039 0.17810458\n",
      " 0.17034314 0.16830065 0.17279412 0.17544935 0.18382353 0.19138072\n",
      " 0.18913399 0.19097222 0.17238562 0.16830065 0.1693219  0.17177288\n",
      " 0.16156046 0.14971405 0.1503268  0.15196078 0.14726307 0.14501634\n",
      " 0.14603758 0.12479575 0.13112745 0.11397059 0.1190768  0.12377451\n",
      " 0.13562092 0.12908497 0.13459967 0.12806373 0.13031046 0.12724673\n",
      " 0.13521242 0.14522059 0.15257353 0.14848856 0.14338235 0.14562908\n",
      " 0.15236928 0.15400327 0.14971405 0.1621732  0.16319444 0.16584967\n",
      " 0.16214971 0.16363166 0.16369888 0.1632071 ]\n",
      "4 day output [[0.16263169]]\n",
      "5 day input [0.14011438 0.1380719  0.13071895 0.13071895 0.12867647 0.11846405\n",
      " 0.14644608 0.14808007 0.15910948 0.15992647 0.15788399 0.16441993\n",
      " 0.17892157 0.17933007 0.19260621 0.20812908 0.18974673 0.18055556\n",
      " 0.18239379 0.17708333 0.17810458 0.18055556 0.17810458 0.17851307\n",
      " 0.19607843 0.18913399 0.18954248 0.19403595 0.19444444 0.20200163\n",
      " 0.19771242 0.19934641 0.19873366 0.1997549  0.2128268  0.21568627\n",
      " 0.20445261 0.21772876 0.21098856 0.21425654 0.19750817 0.18811275\n",
      " 0.17851307 0.17381536 0.16033497 0.16564542 0.17116013 0.17422386\n",
      " 0.18035131 0.17401961 0.16278595 0.16973039 0.17810458 0.17034314\n",
      " 0.16830065 0.17279412 0.17544935 0.18382353 0.19138072 0.18913399\n",
      " 0.19097222 0.17238562 0.16830065 0.1693219  0.17177288 0.16156046\n",
      " 0.14971405 0.1503268  0.15196078 0.14726307 0.14501634 0.14603758\n",
      " 0.12479575 0.13112745 0.11397059 0.1190768  0.12377451 0.13562092\n",
      " 0.12908497 0.13459967 0.12806373 0.13031046 0.12724673 0.13521242\n",
      " 0.14522059 0.15257353 0.14848856 0.14338235 0.14562908 0.15236928\n",
      " 0.15400327 0.14971405 0.1621732  0.16319444 0.16584967 0.16214971\n",
      " 0.16363166 0.16369888 0.1632071  0.16263169]\n",
      "5 day output [[0.16214457]]\n",
      "6 day input [0.1380719  0.13071895 0.13071895 0.12867647 0.11846405 0.14644608\n",
      " 0.14808007 0.15910948 0.15992647 0.15788399 0.16441993 0.17892157\n",
      " 0.17933007 0.19260621 0.20812908 0.18974673 0.18055556 0.18239379\n",
      " 0.17708333 0.17810458 0.18055556 0.17810458 0.17851307 0.19607843\n",
      " 0.18913399 0.18954248 0.19403595 0.19444444 0.20200163 0.19771242\n",
      " 0.19934641 0.19873366 0.1997549  0.2128268  0.21568627 0.20445261\n",
      " 0.21772876 0.21098856 0.21425654 0.19750817 0.18811275 0.17851307\n",
      " 0.17381536 0.16033497 0.16564542 0.17116013 0.17422386 0.18035131\n",
      " 0.17401961 0.16278595 0.16973039 0.17810458 0.17034314 0.16830065\n",
      " 0.17279412 0.17544935 0.18382353 0.19138072 0.18913399 0.19097222\n",
      " 0.17238562 0.16830065 0.1693219  0.17177288 0.16156046 0.14971405\n",
      " 0.1503268  0.15196078 0.14726307 0.14501634 0.14603758 0.12479575\n",
      " 0.13112745 0.11397059 0.1190768  0.12377451 0.13562092 0.12908497\n",
      " 0.13459967 0.12806373 0.13031046 0.12724673 0.13521242 0.14522059\n",
      " 0.15257353 0.14848856 0.14338235 0.14562908 0.15236928 0.15400327\n",
      " 0.14971405 0.1621732  0.16319444 0.16584967 0.16214971 0.16363166\n",
      " 0.16369888 0.1632071  0.16263169 0.16214457]\n",
      "6 day output [[0.16177021]]\n",
      "7 day input [0.13071895 0.13071895 0.12867647 0.11846405 0.14644608 0.14808007\n",
      " 0.15910948 0.15992647 0.15788399 0.16441993 0.17892157 0.17933007\n",
      " 0.19260621 0.20812908 0.18974673 0.18055556 0.18239379 0.17708333\n",
      " 0.17810458 0.18055556 0.17810458 0.17851307 0.19607843 0.18913399\n",
      " 0.18954248 0.19403595 0.19444444 0.20200163 0.19771242 0.19934641\n",
      " 0.19873366 0.1997549  0.2128268  0.21568627 0.20445261 0.21772876\n",
      " 0.21098856 0.21425654 0.19750817 0.18811275 0.17851307 0.17381536\n",
      " 0.16033497 0.16564542 0.17116013 0.17422386 0.18035131 0.17401961\n",
      " 0.16278595 0.16973039 0.17810458 0.17034314 0.16830065 0.17279412\n",
      " 0.17544935 0.18382353 0.19138072 0.18913399 0.19097222 0.17238562\n",
      " 0.16830065 0.1693219  0.17177288 0.16156046 0.14971405 0.1503268\n",
      " 0.15196078 0.14726307 0.14501634 0.14603758 0.12479575 0.13112745\n",
      " 0.11397059 0.1190768  0.12377451 0.13562092 0.12908497 0.13459967\n",
      " 0.12806373 0.13031046 0.12724673 0.13521242 0.14522059 0.15257353\n",
      " 0.14848856 0.14338235 0.14562908 0.15236928 0.15400327 0.14971405\n",
      " 0.1621732  0.16319444 0.16584967 0.16214971 0.16363166 0.16369888\n",
      " 0.1632071  0.16263169 0.16214457 0.16177021]\n",
      "7 day output [[0.1614847]]\n",
      "8 day input [0.13071895 0.12867647 0.11846405 0.14644608 0.14808007 0.15910948\n",
      " 0.15992647 0.15788399 0.16441993 0.17892157 0.17933007 0.19260621\n",
      " 0.20812908 0.18974673 0.18055556 0.18239379 0.17708333 0.17810458\n",
      " 0.18055556 0.17810458 0.17851307 0.19607843 0.18913399 0.18954248\n",
      " 0.19403595 0.19444444 0.20200163 0.19771242 0.19934641 0.19873366\n",
      " 0.1997549  0.2128268  0.21568627 0.20445261 0.21772876 0.21098856\n",
      " 0.21425654 0.19750817 0.18811275 0.17851307 0.17381536 0.16033497\n",
      " 0.16564542 0.17116013 0.17422386 0.18035131 0.17401961 0.16278595\n",
      " 0.16973039 0.17810458 0.17034314 0.16830065 0.17279412 0.17544935\n",
      " 0.18382353 0.19138072 0.18913399 0.19097222 0.17238562 0.16830065\n",
      " 0.1693219  0.17177288 0.16156046 0.14971405 0.1503268  0.15196078\n",
      " 0.14726307 0.14501634 0.14603758 0.12479575 0.13112745 0.11397059\n",
      " 0.1190768  0.12377451 0.13562092 0.12908497 0.13459967 0.12806373\n",
      " 0.13031046 0.12724673 0.13521242 0.14522059 0.15257353 0.14848856\n",
      " 0.14338235 0.14562908 0.15236928 0.15400327 0.14971405 0.1621732\n",
      " 0.16319444 0.16584967 0.16214971 0.16363166 0.16369888 0.1632071\n",
      " 0.16263169 0.16214457 0.16177021 0.1614847 ]\n",
      "8 day output [[0.16125856]]\n",
      "9 day input [0.12867647 0.11846405 0.14644608 0.14808007 0.15910948 0.15992647\n",
      " 0.15788399 0.16441993 0.17892157 0.17933007 0.19260621 0.20812908\n",
      " 0.18974673 0.18055556 0.18239379 0.17708333 0.17810458 0.18055556\n",
      " 0.17810458 0.17851307 0.19607843 0.18913399 0.18954248 0.19403595\n",
      " 0.19444444 0.20200163 0.19771242 0.19934641 0.19873366 0.1997549\n",
      " 0.2128268  0.21568627 0.20445261 0.21772876 0.21098856 0.21425654\n",
      " 0.19750817 0.18811275 0.17851307 0.17381536 0.16033497 0.16564542\n",
      " 0.17116013 0.17422386 0.18035131 0.17401961 0.16278595 0.16973039\n",
      " 0.17810458 0.17034314 0.16830065 0.17279412 0.17544935 0.18382353\n",
      " 0.19138072 0.18913399 0.19097222 0.17238562 0.16830065 0.1693219\n",
      " 0.17177288 0.16156046 0.14971405 0.1503268  0.15196078 0.14726307\n",
      " 0.14501634 0.14603758 0.12479575 0.13112745 0.11397059 0.1190768\n",
      " 0.12377451 0.13562092 0.12908497 0.13459967 0.12806373 0.13031046\n",
      " 0.12724673 0.13521242 0.14522059 0.15257353 0.14848856 0.14338235\n",
      " 0.14562908 0.15236928 0.15400327 0.14971405 0.1621732  0.16319444\n",
      " 0.16584967 0.16214971 0.16363166 0.16369888 0.1632071  0.16263169\n",
      " 0.16214457 0.16177021 0.1614847  0.16125856]\n",
      "9 day output [[0.16106948]]\n",
      "10 day input [0.11846405 0.14644608 0.14808007 0.15910948 0.15992647 0.15788399\n",
      " 0.16441993 0.17892157 0.17933007 0.19260621 0.20812908 0.18974673\n",
      " 0.18055556 0.18239379 0.17708333 0.17810458 0.18055556 0.17810458\n",
      " 0.17851307 0.19607843 0.18913399 0.18954248 0.19403595 0.19444444\n",
      " 0.20200163 0.19771242 0.19934641 0.19873366 0.1997549  0.2128268\n",
      " 0.21568627 0.20445261 0.21772876 0.21098856 0.21425654 0.19750817\n",
      " 0.18811275 0.17851307 0.17381536 0.16033497 0.16564542 0.17116013\n",
      " 0.17422386 0.18035131 0.17401961 0.16278595 0.16973039 0.17810458\n",
      " 0.17034314 0.16830065 0.17279412 0.17544935 0.18382353 0.19138072\n",
      " 0.18913399 0.19097222 0.17238562 0.16830065 0.1693219  0.17177288\n",
      " 0.16156046 0.14971405 0.1503268  0.15196078 0.14726307 0.14501634\n",
      " 0.14603758 0.12479575 0.13112745 0.11397059 0.1190768  0.12377451\n",
      " 0.13562092 0.12908497 0.13459967 0.12806373 0.13031046 0.12724673\n",
      " 0.13521242 0.14522059 0.15257353 0.14848856 0.14338235 0.14562908\n",
      " 0.15236928 0.15400327 0.14971405 0.1621732  0.16319444 0.16584967\n",
      " 0.16214971 0.16363166 0.16369888 0.1632071  0.16263169 0.16214457\n",
      " 0.16177021 0.1614847  0.16125856 0.16106948]\n",
      "10 day output [[0.16090405]]\n",
      "11 day input [0.14644608 0.14808007 0.15910948 0.15992647 0.15788399 0.16441993\n",
      " 0.17892157 0.17933007 0.19260621 0.20812908 0.18974673 0.18055556\n",
      " 0.18239379 0.17708333 0.17810458 0.18055556 0.17810458 0.17851307\n",
      " 0.19607843 0.18913399 0.18954248 0.19403595 0.19444444 0.20200163\n",
      " 0.19771242 0.19934641 0.19873366 0.1997549  0.2128268  0.21568627\n",
      " 0.20445261 0.21772876 0.21098856 0.21425654 0.19750817 0.18811275\n",
      " 0.17851307 0.17381536 0.16033497 0.16564542 0.17116013 0.17422386\n",
      " 0.18035131 0.17401961 0.16278595 0.16973039 0.17810458 0.17034314\n",
      " 0.16830065 0.17279412 0.17544935 0.18382353 0.19138072 0.18913399\n",
      " 0.19097222 0.17238562 0.16830065 0.1693219  0.17177288 0.16156046\n",
      " 0.14971405 0.1503268  0.15196078 0.14726307 0.14501634 0.14603758\n",
      " 0.12479575 0.13112745 0.11397059 0.1190768  0.12377451 0.13562092\n",
      " 0.12908497 0.13459967 0.12806373 0.13031046 0.12724673 0.13521242\n",
      " 0.14522059 0.15257353 0.14848856 0.14338235 0.14562908 0.15236928\n",
      " 0.15400327 0.14971405 0.1621732  0.16319444 0.16584967 0.16214971\n",
      " 0.16363166 0.16369888 0.1632071  0.16263169 0.16214457 0.16177021\n",
      " 0.1614847  0.16125856 0.16106948 0.16090405]\n",
      "11 day output [[0.16075647]]\n",
      "12 day input [0.14808007 0.15910948 0.15992647 0.15788399 0.16441993 0.17892157\n",
      " 0.17933007 0.19260621 0.20812908 0.18974673 0.18055556 0.18239379\n",
      " 0.17708333 0.17810458 0.18055556 0.17810458 0.17851307 0.19607843\n",
      " 0.18913399 0.18954248 0.19403595 0.19444444 0.20200163 0.19771242\n",
      " 0.19934641 0.19873366 0.1997549  0.2128268  0.21568627 0.20445261\n",
      " 0.21772876 0.21098856 0.21425654 0.19750817 0.18811275 0.17851307\n",
      " 0.17381536 0.16033497 0.16564542 0.17116013 0.17422386 0.18035131\n",
      " 0.17401961 0.16278595 0.16973039 0.17810458 0.17034314 0.16830065\n",
      " 0.17279412 0.17544935 0.18382353 0.19138072 0.18913399 0.19097222\n",
      " 0.17238562 0.16830065 0.1693219  0.17177288 0.16156046 0.14971405\n",
      " 0.1503268  0.15196078 0.14726307 0.14501634 0.14603758 0.12479575\n",
      " 0.13112745 0.11397059 0.1190768  0.12377451 0.13562092 0.12908497\n",
      " 0.13459967 0.12806373 0.13031046 0.12724673 0.13521242 0.14522059\n",
      " 0.15257353 0.14848856 0.14338235 0.14562908 0.15236928 0.15400327\n",
      " 0.14971405 0.1621732  0.16319444 0.16584967 0.16214971 0.16363166\n",
      " 0.16369888 0.1632071  0.16263169 0.16214457 0.16177021 0.1614847\n",
      " 0.16125856 0.16106948 0.16090405 0.16075647]\n",
      "12 day output [[0.16062592]]\n",
      "13 day input [0.15910948 0.15992647 0.15788399 0.16441993 0.17892157 0.17933007\n",
      " 0.19260621 0.20812908 0.18974673 0.18055556 0.18239379 0.17708333\n",
      " 0.17810458 0.18055556 0.17810458 0.17851307 0.19607843 0.18913399\n",
      " 0.18954248 0.19403595 0.19444444 0.20200163 0.19771242 0.19934641\n",
      " 0.19873366 0.1997549  0.2128268  0.21568627 0.20445261 0.21772876\n",
      " 0.21098856 0.21425654 0.19750817 0.18811275 0.17851307 0.17381536\n",
      " 0.16033497 0.16564542 0.17116013 0.17422386 0.18035131 0.17401961\n",
      " 0.16278595 0.16973039 0.17810458 0.17034314 0.16830065 0.17279412\n",
      " 0.17544935 0.18382353 0.19138072 0.18913399 0.19097222 0.17238562\n",
      " 0.16830065 0.1693219  0.17177288 0.16156046 0.14971405 0.1503268\n",
      " 0.15196078 0.14726307 0.14501634 0.14603758 0.12479575 0.13112745\n",
      " 0.11397059 0.1190768  0.12377451 0.13562092 0.12908497 0.13459967\n",
      " 0.12806373 0.13031046 0.12724673 0.13521242 0.14522059 0.15257353\n",
      " 0.14848856 0.14338235 0.14562908 0.15236928 0.15400327 0.14971405\n",
      " 0.1621732  0.16319444 0.16584967 0.16214971 0.16363166 0.16369888\n",
      " 0.1632071  0.16263169 0.16214457 0.16177021 0.1614847  0.16125856\n",
      " 0.16106948 0.16090405 0.16075647 0.16062592]\n",
      "13 day output [[0.16051473]]\n",
      "14 day input [0.15992647 0.15788399 0.16441993 0.17892157 0.17933007 0.19260621\n",
      " 0.20812908 0.18974673 0.18055556 0.18239379 0.17708333 0.17810458\n",
      " 0.18055556 0.17810458 0.17851307 0.19607843 0.18913399 0.18954248\n",
      " 0.19403595 0.19444444 0.20200163 0.19771242 0.19934641 0.19873366\n",
      " 0.1997549  0.2128268  0.21568627 0.20445261 0.21772876 0.21098856\n",
      " 0.21425654 0.19750817 0.18811275 0.17851307 0.17381536 0.16033497\n",
      " 0.16564542 0.17116013 0.17422386 0.18035131 0.17401961 0.16278595\n",
      " 0.16973039 0.17810458 0.17034314 0.16830065 0.17279412 0.17544935\n",
      " 0.18382353 0.19138072 0.18913399 0.19097222 0.17238562 0.16830065\n",
      " 0.1693219  0.17177288 0.16156046 0.14971405 0.1503268  0.15196078\n",
      " 0.14726307 0.14501634 0.14603758 0.12479575 0.13112745 0.11397059\n",
      " 0.1190768  0.12377451 0.13562092 0.12908497 0.13459967 0.12806373\n",
      " 0.13031046 0.12724673 0.13521242 0.14522059 0.15257353 0.14848856\n",
      " 0.14338235 0.14562908 0.15236928 0.15400327 0.14971405 0.1621732\n",
      " 0.16319444 0.16584967 0.16214971 0.16363166 0.16369888 0.1632071\n",
      " 0.16263169 0.16214457 0.16177021 0.1614847  0.16125856 0.16106948\n",
      " 0.16090405 0.16075647 0.16062592 0.16051473]\n",
      "14 day output [[0.1604264]]\n",
      "15 day input [0.15788399 0.16441993 0.17892157 0.17933007 0.19260621 0.20812908\n",
      " 0.18974673 0.18055556 0.18239379 0.17708333 0.17810458 0.18055556\n",
      " 0.17810458 0.17851307 0.19607843 0.18913399 0.18954248 0.19403595\n",
      " 0.19444444 0.20200163 0.19771242 0.19934641 0.19873366 0.1997549\n",
      " 0.2128268  0.21568627 0.20445261 0.21772876 0.21098856 0.21425654\n",
      " 0.19750817 0.18811275 0.17851307 0.17381536 0.16033497 0.16564542\n",
      " 0.17116013 0.17422386 0.18035131 0.17401961 0.16278595 0.16973039\n",
      " 0.17810458 0.17034314 0.16830065 0.17279412 0.17544935 0.18382353\n",
      " 0.19138072 0.18913399 0.19097222 0.17238562 0.16830065 0.1693219\n",
      " 0.17177288 0.16156046 0.14971405 0.1503268  0.15196078 0.14726307\n",
      " 0.14501634 0.14603758 0.12479575 0.13112745 0.11397059 0.1190768\n",
      " 0.12377451 0.13562092 0.12908497 0.13459967 0.12806373 0.13031046\n",
      " 0.12724673 0.13521242 0.14522059 0.15257353 0.14848856 0.14338235\n",
      " 0.14562908 0.15236928 0.15400327 0.14971405 0.1621732  0.16319444\n",
      " 0.16584967 0.16214971 0.16363166 0.16369888 0.1632071  0.16263169\n",
      " 0.16214457 0.16177021 0.1614847  0.16125856 0.16106948 0.16090405\n",
      " 0.16075647 0.16062592 0.16051473 0.16042639]\n",
      "15 day output [[0.16036393]]\n",
      "16 day input [0.16441993 0.17892157 0.17933007 0.19260621 0.20812908 0.18974673\n",
      " 0.18055556 0.18239379 0.17708333 0.17810458 0.18055556 0.17810458\n",
      " 0.17851307 0.19607843 0.18913399 0.18954248 0.19403595 0.19444444\n",
      " 0.20200163 0.19771242 0.19934641 0.19873366 0.1997549  0.2128268\n",
      " 0.21568627 0.20445261 0.21772876 0.21098856 0.21425654 0.19750817\n",
      " 0.18811275 0.17851307 0.17381536 0.16033497 0.16564542 0.17116013\n",
      " 0.17422386 0.18035131 0.17401961 0.16278595 0.16973039 0.17810458\n",
      " 0.17034314 0.16830065 0.17279412 0.17544935 0.18382353 0.19138072\n",
      " 0.18913399 0.19097222 0.17238562 0.16830065 0.1693219  0.17177288\n",
      " 0.16156046 0.14971405 0.1503268  0.15196078 0.14726307 0.14501634\n",
      " 0.14603758 0.12479575 0.13112745 0.11397059 0.1190768  0.12377451\n",
      " 0.13562092 0.12908497 0.13459967 0.12806373 0.13031046 0.12724673\n",
      " 0.13521242 0.14522059 0.15257353 0.14848856 0.14338235 0.14562908\n",
      " 0.15236928 0.15400327 0.14971405 0.1621732  0.16319444 0.16584967\n",
      " 0.16214971 0.16363166 0.16369888 0.1632071  0.16263169 0.16214457\n",
      " 0.16177021 0.1614847  0.16125856 0.16106948 0.16090405 0.16075647\n",
      " 0.16062592 0.16051473 0.16042639 0.16036393]\n",
      "16 day output [[0.160329]]\n",
      "17 day input [0.17892157 0.17933007 0.19260621 0.20812908 0.18974673 0.18055556\n",
      " 0.18239379 0.17708333 0.17810458 0.18055556 0.17810458 0.17851307\n",
      " 0.19607843 0.18913399 0.18954248 0.19403595 0.19444444 0.20200163\n",
      " 0.19771242 0.19934641 0.19873366 0.1997549  0.2128268  0.21568627\n",
      " 0.20445261 0.21772876 0.21098856 0.21425654 0.19750817 0.18811275\n",
      " 0.17851307 0.17381536 0.16033497 0.16564542 0.17116013 0.17422386\n",
      " 0.18035131 0.17401961 0.16278595 0.16973039 0.17810458 0.17034314\n",
      " 0.16830065 0.17279412 0.17544935 0.18382353 0.19138072 0.18913399\n",
      " 0.19097222 0.17238562 0.16830065 0.1693219  0.17177288 0.16156046\n",
      " 0.14971405 0.1503268  0.15196078 0.14726307 0.14501634 0.14603758\n",
      " 0.12479575 0.13112745 0.11397059 0.1190768  0.12377451 0.13562092\n",
      " 0.12908497 0.13459967 0.12806373 0.13031046 0.12724673 0.13521242\n",
      " 0.14522059 0.15257353 0.14848856 0.14338235 0.14562908 0.15236928\n",
      " 0.15400327 0.14971405 0.1621732  0.16319444 0.16584967 0.16214971\n",
      " 0.16363166 0.16369888 0.1632071  0.16263169 0.16214457 0.16177021\n",
      " 0.1614847  0.16125856 0.16106948 0.16090405 0.16075647 0.16062592\n",
      " 0.16051473 0.16042639 0.16036393 0.160329  ]\n",
      "17 day output [[0.16032161]]\n",
      "18 day input [0.17933007 0.19260621 0.20812908 0.18974673 0.18055556 0.18239379\n",
      " 0.17708333 0.17810458 0.18055556 0.17810458 0.17851307 0.19607843\n",
      " 0.18913399 0.18954248 0.19403595 0.19444444 0.20200163 0.19771242\n",
      " 0.19934641 0.19873366 0.1997549  0.2128268  0.21568627 0.20445261\n",
      " 0.21772876 0.21098856 0.21425654 0.19750817 0.18811275 0.17851307\n",
      " 0.17381536 0.16033497 0.16564542 0.17116013 0.17422386 0.18035131\n",
      " 0.17401961 0.16278595 0.16973039 0.17810458 0.17034314 0.16830065\n",
      " 0.17279412 0.17544935 0.18382353 0.19138072 0.18913399 0.19097222\n",
      " 0.17238562 0.16830065 0.1693219  0.17177288 0.16156046 0.14971405\n",
      " 0.1503268  0.15196078 0.14726307 0.14501634 0.14603758 0.12479575\n",
      " 0.13112745 0.11397059 0.1190768  0.12377451 0.13562092 0.12908497\n",
      " 0.13459967 0.12806373 0.13031046 0.12724673 0.13521242 0.14522059\n",
      " 0.15257353 0.14848856 0.14338235 0.14562908 0.15236928 0.15400327\n",
      " 0.14971405 0.1621732  0.16319444 0.16584967 0.16214971 0.16363166\n",
      " 0.16369888 0.1632071  0.16263169 0.16214457 0.16177021 0.1614847\n",
      " 0.16125856 0.16106948 0.16090405 0.16075647 0.16062592 0.16051473\n",
      " 0.16042639 0.16036393 0.160329   0.16032161]\n",
      "18 day output [[0.16033994]]\n",
      "19 day input [0.19260621 0.20812908 0.18974673 0.18055556 0.18239379 0.17708333\n",
      " 0.17810458 0.18055556 0.17810458 0.17851307 0.19607843 0.18913399\n",
      " 0.18954248 0.19403595 0.19444444 0.20200163 0.19771242 0.19934641\n",
      " 0.19873366 0.1997549  0.2128268  0.21568627 0.20445261 0.21772876\n",
      " 0.21098856 0.21425654 0.19750817 0.18811275 0.17851307 0.17381536\n",
      " 0.16033497 0.16564542 0.17116013 0.17422386 0.18035131 0.17401961\n",
      " 0.16278595 0.16973039 0.17810458 0.17034314 0.16830065 0.17279412\n",
      " 0.17544935 0.18382353 0.19138072 0.18913399 0.19097222 0.17238562\n",
      " 0.16830065 0.1693219  0.17177288 0.16156046 0.14971405 0.1503268\n",
      " 0.15196078 0.14726307 0.14501634 0.14603758 0.12479575 0.13112745\n",
      " 0.11397059 0.1190768  0.12377451 0.13562092 0.12908497 0.13459967\n",
      " 0.12806373 0.13031046 0.12724673 0.13521242 0.14522059 0.15257353\n",
      " 0.14848856 0.14338235 0.14562908 0.15236928 0.15400327 0.14971405\n",
      " 0.1621732  0.16319444 0.16584967 0.16214971 0.16363166 0.16369888\n",
      " 0.1632071  0.16263169 0.16214457 0.16177021 0.1614847  0.16125856\n",
      " 0.16106948 0.16090405 0.16075647 0.16062592 0.16051473 0.16042639\n",
      " 0.16036393 0.160329   0.16032161 0.16033994]\n",
      "19 day output [[0.16038129]]\n",
      "20 day input [0.20812908 0.18974673 0.18055556 0.18239379 0.17708333 0.17810458\n",
      " 0.18055556 0.17810458 0.17851307 0.19607843 0.18913399 0.18954248\n",
      " 0.19403595 0.19444444 0.20200163 0.19771242 0.19934641 0.19873366\n",
      " 0.1997549  0.2128268  0.21568627 0.20445261 0.21772876 0.21098856\n",
      " 0.21425654 0.19750817 0.18811275 0.17851307 0.17381536 0.16033497\n",
      " 0.16564542 0.17116013 0.17422386 0.18035131 0.17401961 0.16278595\n",
      " 0.16973039 0.17810458 0.17034314 0.16830065 0.17279412 0.17544935\n",
      " 0.18382353 0.19138072 0.18913399 0.19097222 0.17238562 0.16830065\n",
      " 0.1693219  0.17177288 0.16156046 0.14971405 0.1503268  0.15196078\n",
      " 0.14726307 0.14501634 0.14603758 0.12479575 0.13112745 0.11397059\n",
      " 0.1190768  0.12377451 0.13562092 0.12908497 0.13459967 0.12806373\n",
      " 0.13031046 0.12724673 0.13521242 0.14522059 0.15257353 0.14848856\n",
      " 0.14338235 0.14562908 0.15236928 0.15400327 0.14971405 0.1621732\n",
      " 0.16319444 0.16584967 0.16214971 0.16363166 0.16369888 0.1632071\n",
      " 0.16263169 0.16214457 0.16177021 0.1614847  0.16125856 0.16106948\n",
      " 0.16090405 0.16075647 0.16062592 0.16051473 0.16042639 0.16036393\n",
      " 0.160329   0.16032161 0.16033994 0.16038129]\n",
      "20 day output [[0.16044167]]\n",
      "21 day input [0.18974673 0.18055556 0.18239379 0.17708333 0.17810458 0.18055556\n",
      " 0.17810458 0.17851307 0.19607843 0.18913399 0.18954248 0.19403595\n",
      " 0.19444444 0.20200163 0.19771242 0.19934641 0.19873366 0.1997549\n",
      " 0.2128268  0.21568627 0.20445261 0.21772876 0.21098856 0.21425654\n",
      " 0.19750817 0.18811275 0.17851307 0.17381536 0.16033497 0.16564542\n",
      " 0.17116013 0.17422386 0.18035131 0.17401961 0.16278595 0.16973039\n",
      " 0.17810458 0.17034314 0.16830065 0.17279412 0.17544935 0.18382353\n",
      " 0.19138072 0.18913399 0.19097222 0.17238562 0.16830065 0.1693219\n",
      " 0.17177288 0.16156046 0.14971405 0.1503268  0.15196078 0.14726307\n",
      " 0.14501634 0.14603758 0.12479575 0.13112745 0.11397059 0.1190768\n",
      " 0.12377451 0.13562092 0.12908497 0.13459967 0.12806373 0.13031046\n",
      " 0.12724673 0.13521242 0.14522059 0.15257353 0.14848856 0.14338235\n",
      " 0.14562908 0.15236928 0.15400327 0.14971405 0.1621732  0.16319444\n",
      " 0.16584967 0.16214971 0.16363166 0.16369888 0.1632071  0.16263169\n",
      " 0.16214457 0.16177021 0.1614847  0.16125856 0.16106948 0.16090405\n",
      " 0.16075647 0.16062592 0.16051473 0.16042639 0.16036393 0.160329\n",
      " 0.16032161 0.16033994 0.16038129 0.16044167]\n",
      "21 day output [[0.160517]]\n",
      "22 day input [0.18055556 0.18239379 0.17708333 0.17810458 0.18055556 0.17810458\n",
      " 0.17851307 0.19607843 0.18913399 0.18954248 0.19403595 0.19444444\n",
      " 0.20200163 0.19771242 0.19934641 0.19873366 0.1997549  0.2128268\n",
      " 0.21568627 0.20445261 0.21772876 0.21098856 0.21425654 0.19750817\n",
      " 0.18811275 0.17851307 0.17381536 0.16033497 0.16564542 0.17116013\n",
      " 0.17422386 0.18035131 0.17401961 0.16278595 0.16973039 0.17810458\n",
      " 0.17034314 0.16830065 0.17279412 0.17544935 0.18382353 0.19138072\n",
      " 0.18913399 0.19097222 0.17238562 0.16830065 0.1693219  0.17177288\n",
      " 0.16156046 0.14971405 0.1503268  0.15196078 0.14726307 0.14501634\n",
      " 0.14603758 0.12479575 0.13112745 0.11397059 0.1190768  0.12377451\n",
      " 0.13562092 0.12908497 0.13459967 0.12806373 0.13031046 0.12724673\n",
      " 0.13521242 0.14522059 0.15257353 0.14848856 0.14338235 0.14562908\n",
      " 0.15236928 0.15400327 0.14971405 0.1621732  0.16319444 0.16584967\n",
      " 0.16214971 0.16363166 0.16369888 0.1632071  0.16263169 0.16214457\n",
      " 0.16177021 0.1614847  0.16125856 0.16106948 0.16090405 0.16075647\n",
      " 0.16062592 0.16051473 0.16042639 0.16036393 0.160329   0.16032161\n",
      " 0.16033994 0.16038129 0.16044167 0.16051701]\n",
      "22 day output [[0.16060327]]\n",
      "23 day input [0.18239379 0.17708333 0.17810458 0.18055556 0.17810458 0.17851307\n",
      " 0.19607843 0.18913399 0.18954248 0.19403595 0.19444444 0.20200163\n",
      " 0.19771242 0.19934641 0.19873366 0.1997549  0.2128268  0.21568627\n",
      " 0.20445261 0.21772876 0.21098856 0.21425654 0.19750817 0.18811275\n",
      " 0.17851307 0.17381536 0.16033497 0.16564542 0.17116013 0.17422386\n",
      " 0.18035131 0.17401961 0.16278595 0.16973039 0.17810458 0.17034314\n",
      " 0.16830065 0.17279412 0.17544935 0.18382353 0.19138072 0.18913399\n",
      " 0.19097222 0.17238562 0.16830065 0.1693219  0.17177288 0.16156046\n",
      " 0.14971405 0.1503268  0.15196078 0.14726307 0.14501634 0.14603758\n",
      " 0.12479575 0.13112745 0.11397059 0.1190768  0.12377451 0.13562092\n",
      " 0.12908497 0.13459967 0.12806373 0.13031046 0.12724673 0.13521242\n",
      " 0.14522059 0.15257353 0.14848856 0.14338235 0.14562908 0.15236928\n",
      " 0.15400327 0.14971405 0.1621732  0.16319444 0.16584967 0.16214971\n",
      " 0.16363166 0.16369888 0.1632071  0.16263169 0.16214457 0.16177021\n",
      " 0.1614847  0.16125856 0.16106948 0.16090405 0.16075647 0.16062592\n",
      " 0.16051473 0.16042639 0.16036393 0.160329   0.16032161 0.16033994\n",
      " 0.16038129 0.16044167 0.16051701 0.16060327]\n",
      "23 day output [[0.16069657]]\n",
      "24 day input [0.17708333 0.17810458 0.18055556 0.17810458 0.17851307 0.19607843\n",
      " 0.18913399 0.18954248 0.19403595 0.19444444 0.20200163 0.19771242\n",
      " 0.19934641 0.19873366 0.1997549  0.2128268  0.21568627 0.20445261\n",
      " 0.21772876 0.21098856 0.21425654 0.19750817 0.18811275 0.17851307\n",
      " 0.17381536 0.16033497 0.16564542 0.17116013 0.17422386 0.18035131\n",
      " 0.17401961 0.16278595 0.16973039 0.17810458 0.17034314 0.16830065\n",
      " 0.17279412 0.17544935 0.18382353 0.19138072 0.18913399 0.19097222\n",
      " 0.17238562 0.16830065 0.1693219  0.17177288 0.16156046 0.14971405\n",
      " 0.1503268  0.15196078 0.14726307 0.14501634 0.14603758 0.12479575\n",
      " 0.13112745 0.11397059 0.1190768  0.12377451 0.13562092 0.12908497\n",
      " 0.13459967 0.12806373 0.13031046 0.12724673 0.13521242 0.14522059\n",
      " 0.15257353 0.14848856 0.14338235 0.14562908 0.15236928 0.15400327\n",
      " 0.14971405 0.1621732  0.16319444 0.16584967 0.16214971 0.16363166\n",
      " 0.16369888 0.1632071  0.16263169 0.16214457 0.16177021 0.1614847\n",
      " 0.16125856 0.16106948 0.16090405 0.16075647 0.16062592 0.16051473\n",
      " 0.16042639 0.16036393 0.160329   0.16032161 0.16033994 0.16038129\n",
      " 0.16044167 0.16051701 0.16060327 0.16069657]\n",
      "24 day output [[0.16079386]]\n",
      "25 day input [0.17810458 0.18055556 0.17810458 0.17851307 0.19607843 0.18913399\n",
      " 0.18954248 0.19403595 0.19444444 0.20200163 0.19771242 0.19934641\n",
      " 0.19873366 0.1997549  0.2128268  0.21568627 0.20445261 0.21772876\n",
      " 0.21098856 0.21425654 0.19750817 0.18811275 0.17851307 0.17381536\n",
      " 0.16033497 0.16564542 0.17116013 0.17422386 0.18035131 0.17401961\n",
      " 0.16278595 0.16973039 0.17810458 0.17034314 0.16830065 0.17279412\n",
      " 0.17544935 0.18382353 0.19138072 0.18913399 0.19097222 0.17238562\n",
      " 0.16830065 0.1693219  0.17177288 0.16156046 0.14971405 0.1503268\n",
      " 0.15196078 0.14726307 0.14501634 0.14603758 0.12479575 0.13112745\n",
      " 0.11397059 0.1190768  0.12377451 0.13562092 0.12908497 0.13459967\n",
      " 0.12806373 0.13031046 0.12724673 0.13521242 0.14522059 0.15257353\n",
      " 0.14848856 0.14338235 0.14562908 0.15236928 0.15400327 0.14971405\n",
      " 0.1621732  0.16319444 0.16584967 0.16214971 0.16363166 0.16369888\n",
      " 0.1632071  0.16263169 0.16214457 0.16177021 0.1614847  0.16125856\n",
      " 0.16106948 0.16090405 0.16075647 0.16062592 0.16051473 0.16042639\n",
      " 0.16036393 0.160329   0.16032161 0.16033994 0.16038129 0.16044167\n",
      " 0.16051701 0.16060327 0.16069657 0.16079386]\n",
      "25 day output [[0.16089255]]\n",
      "26 day input [0.18055556 0.17810458 0.17851307 0.19607843 0.18913399 0.18954248\n",
      " 0.19403595 0.19444444 0.20200163 0.19771242 0.19934641 0.19873366\n",
      " 0.1997549  0.2128268  0.21568627 0.20445261 0.21772876 0.21098856\n",
      " 0.21425654 0.19750817 0.18811275 0.17851307 0.17381536 0.16033497\n",
      " 0.16564542 0.17116013 0.17422386 0.18035131 0.17401961 0.16278595\n",
      " 0.16973039 0.17810458 0.17034314 0.16830065 0.17279412 0.17544935\n",
      " 0.18382353 0.19138072 0.18913399 0.19097222 0.17238562 0.16830065\n",
      " 0.1693219  0.17177288 0.16156046 0.14971405 0.1503268  0.15196078\n",
      " 0.14726307 0.14501634 0.14603758 0.12479575 0.13112745 0.11397059\n",
      " 0.1190768  0.12377451 0.13562092 0.12908497 0.13459967 0.12806373\n",
      " 0.13031046 0.12724673 0.13521242 0.14522059 0.15257353 0.14848856\n",
      " 0.14338235 0.14562908 0.15236928 0.15400327 0.14971405 0.1621732\n",
      " 0.16319444 0.16584967 0.16214971 0.16363166 0.16369888 0.1632071\n",
      " 0.16263169 0.16214457 0.16177021 0.1614847  0.16125856 0.16106948\n",
      " 0.16090405 0.16075647 0.16062592 0.16051473 0.16042639 0.16036393\n",
      " 0.160329   0.16032161 0.16033994 0.16038129 0.16044167 0.16051701\n",
      " 0.16060327 0.16069657 0.16079386 0.16089255]\n",
      "26 day output [[0.16099042]]\n",
      "27 day input [0.17810458 0.17851307 0.19607843 0.18913399 0.18954248 0.19403595\n",
      " 0.19444444 0.20200163 0.19771242 0.19934641 0.19873366 0.1997549\n",
      " 0.2128268  0.21568627 0.20445261 0.21772876 0.21098856 0.21425654\n",
      " 0.19750817 0.18811275 0.17851307 0.17381536 0.16033497 0.16564542\n",
      " 0.17116013 0.17422386 0.18035131 0.17401961 0.16278595 0.16973039\n",
      " 0.17810458 0.17034314 0.16830065 0.17279412 0.17544935 0.18382353\n",
      " 0.19138072 0.18913399 0.19097222 0.17238562 0.16830065 0.1693219\n",
      " 0.17177288 0.16156046 0.14971405 0.1503268  0.15196078 0.14726307\n",
      " 0.14501634 0.14603758 0.12479575 0.13112745 0.11397059 0.1190768\n",
      " 0.12377451 0.13562092 0.12908497 0.13459967 0.12806373 0.13031046\n",
      " 0.12724673 0.13521242 0.14522059 0.15257353 0.14848856 0.14338235\n",
      " 0.14562908 0.15236928 0.15400327 0.14971405 0.1621732  0.16319444\n",
      " 0.16584967 0.16214971 0.16363166 0.16369888 0.1632071  0.16263169\n",
      " 0.16214457 0.16177021 0.1614847  0.16125856 0.16106948 0.16090405\n",
      " 0.16075647 0.16062592 0.16051473 0.16042639 0.16036393 0.160329\n",
      " 0.16032161 0.16033994 0.16038129 0.16044167 0.16051701 0.16060327\n",
      " 0.16069657 0.16079386 0.16089255 0.16099042]\n",
      "27 day output [[0.16108614]]\n",
      "28 day input [0.17851307 0.19607843 0.18913399 0.18954248 0.19403595 0.19444444\n",
      " 0.20200163 0.19771242 0.19934641 0.19873366 0.1997549  0.2128268\n",
      " 0.21568627 0.20445261 0.21772876 0.21098856 0.21425654 0.19750817\n",
      " 0.18811275 0.17851307 0.17381536 0.16033497 0.16564542 0.17116013\n",
      " 0.17422386 0.18035131 0.17401961 0.16278595 0.16973039 0.17810458\n",
      " 0.17034314 0.16830065 0.17279412 0.17544935 0.18382353 0.19138072\n",
      " 0.18913399 0.19097222 0.17238562 0.16830065 0.1693219  0.17177288\n",
      " 0.16156046 0.14971405 0.1503268  0.15196078 0.14726307 0.14501634\n",
      " 0.14603758 0.12479575 0.13112745 0.11397059 0.1190768  0.12377451\n",
      " 0.13562092 0.12908497 0.13459967 0.12806373 0.13031046 0.12724673\n",
      " 0.13521242 0.14522059 0.15257353 0.14848856 0.14338235 0.14562908\n",
      " 0.15236928 0.15400327 0.14971405 0.1621732  0.16319444 0.16584967\n",
      " 0.16214971 0.16363166 0.16369888 0.1632071  0.16263169 0.16214457\n",
      " 0.16177021 0.1614847  0.16125856 0.16106948 0.16090405 0.16075647\n",
      " 0.16062592 0.16051473 0.16042639 0.16036393 0.160329   0.16032161\n",
      " 0.16033994 0.16038129 0.16044167 0.16051701 0.16060327 0.16069657\n",
      " 0.16079386 0.16089255 0.16099042 0.16108614]\n",
      "28 day output [[0.1611784]]\n",
      "29 day input [0.19607843 0.18913399 0.18954248 0.19403595 0.19444444 0.20200163\n",
      " 0.19771242 0.19934641 0.19873366 0.1997549  0.2128268  0.21568627\n",
      " 0.20445261 0.21772876 0.21098856 0.21425654 0.19750817 0.18811275\n",
      " 0.17851307 0.17381536 0.16033497 0.16564542 0.17116013 0.17422386\n",
      " 0.18035131 0.17401961 0.16278595 0.16973039 0.17810458 0.17034314\n",
      " 0.16830065 0.17279412 0.17544935 0.18382353 0.19138072 0.18913399\n",
      " 0.19097222 0.17238562 0.16830065 0.1693219  0.17177288 0.16156046\n",
      " 0.14971405 0.1503268  0.15196078 0.14726307 0.14501634 0.14603758\n",
      " 0.12479575 0.13112745 0.11397059 0.1190768  0.12377451 0.13562092\n",
      " 0.12908497 0.13459967 0.12806373 0.13031046 0.12724673 0.13521242\n",
      " 0.14522059 0.15257353 0.14848856 0.14338235 0.14562908 0.15236928\n",
      " 0.15400327 0.14971405 0.1621732  0.16319444 0.16584967 0.16214971\n",
      " 0.16363166 0.16369888 0.1632071  0.16263169 0.16214457 0.16177021\n",
      " 0.1614847  0.16125856 0.16106948 0.16090405 0.16075647 0.16062592\n",
      " 0.16051473 0.16042639 0.16036393 0.160329   0.16032161 0.16033994\n",
      " 0.16038129 0.16044167 0.16051701 0.16060327 0.16069657 0.16079386\n",
      " 0.16089255 0.16099042 0.16108614 0.1611784 ]\n",
      "29 day output [[0.16126662]]\n"
     ]
    }
   ],
   "source": [
    "# demonstrate prediction for next 10 days\n",
    "from numpy import array\n",
    "\n",
    "lst_output=[]\n",
    "n_steps=100\n",
    "i=0\n",
    "while(i<30):\n",
    "    \n",
    "    if(len(temp_input)>100):\n",
    "        x_input=np.array(temp_input[1:])\n",
    "        print(\"{} day input {}\".format(i,x_input))\n",
    "        x_input=x_input.reshape(1,-1)\n",
    "        x_input = x_input.reshape((1, n_steps, 1))\n",
    "        yhat = model.predict(x_input, verbose=0)\n",
    "        print(\"{} day output {}\".format(i,yhat))\n",
    "        temp_input.extend(yhat[0].tolist())\n",
    "        temp_input=temp_input[1:]\n",
    "        lst_output.extend(yhat.tolist())\n",
    "        i=i+1\n",
    "    else:\n",
    "        x_input = x_input.reshape((1, n_steps,1))\n",
    "        yhat = model.predict(x_input, verbose=0)\n",
    "        print(yhat[0])\n",
    "        temp_input.extend(yhat[0].tolist())\n",
    "        print(len(temp_input))\n",
    "        lst_output.extend(yhat.tolist())\n",
    "        i=i+1\n",
    "    \n"
   ]
  },
  {
   "cell_type": "code",
   "execution_count": 67,
   "id": "three-medium",
   "metadata": {},
   "outputs": [],
   "source": [
    "day_new=np.arange(1,164)\n",
    "day_pred=np.arange(144,174)"
   ]
  },
  {
   "cell_type": "code",
   "execution_count": 68,
   "id": "significant-chamber",
   "metadata": {},
   "outputs": [
    {
     "data": {
      "text/plain": [
       "[<matplotlib.lines.Line2D at 0x7f384d062f98>]"
      ]
     },
     "execution_count": 68,
     "metadata": {},
     "output_type": "execute_result"
    },
    {
     "data": {
      "image/png": "[encoded data removed]",
      "text/plain": [
       "<Figure size 432x288 with 1 Axes>"
      ]
     },
     "metadata": {
      "needs_background": "light"
     },
     "output_type": "display_data"
    }
   ],
   "source": [
    "plt.plot(day_new,scaler.inverse_transform(df1[1872:]))\n",
    "plt.plot(day_pred,scaler.inverse_transform(lst_output))"
   ]
  },
  {
   "cell_type": "code",
   "execution_count": 69,
   "id": "attempted-mapping",
   "metadata": {},
   "outputs": [
    {
     "data": {
      "text/plain": [
       "[<matplotlib.lines.Line2D at 0x7f384d246358>]"
      ]
     },
     "execution_count": 69,
     "metadata": {},
     "output_type": "execute_result"
    },
    {
     "data": {
      "image/png": "[encoded data removed]",
      "text/plain": [
       "<Figure size 432x288 with 1 Axes>"
      ]
     },
     "metadata": {
      "needs_background": "light"
     },
     "output_type": "display_data"
    }
   ],
   "source": [
    "df3=df1.tolist()\n",
    "df3.extend(lst_output)\n",
    "plt.plot(df3[2000:])"
   ]
  },
  {
   "cell_type": "code",
   "execution_count": 70,
   "id": "addressed-bunch",
   "metadata": {},
   "outputs": [
    {
     "data": {
      "text/plain": [
       "[<matplotlib.lines.Line2D at 0x7f389c6c38d0>]"
      ]
     },
     "execution_count": 70,
     "metadata": {},
     "output_type": "execute_result"
    },
    {
     "data": {
      "image/png": "[encoded data removed]",
      "text/plain": [
       "<Figure size 432x288 with 1 Axes>"
      ]
     },
     "metadata": {
      "needs_background": "light"
     },
     "output_type": "display_data"
    }
   ],
   "source": [
    "df3=scaler.inverse_transform(df3).tolist()\n",
    "plt.plot(df3)"
   ]
  },
  {
   "cell_type": "code",
   "execution_count": null,
   "id": "surprised-subscriber",
   "metadata": {},
   "outputs": [],
   "source": []
  }
 ],
 "metadata": {
  "kernelspec": {
   "display_name": "Python 3",
   "language": "python",
   "name": "python3"
  },
  "language_info": {
   "codemirror_mode": {
    "name": "ipython",
    "version": 3
   },
   "file_extension": ".py",
   "mimetype": "text/x-python",
   "name": "python",
   "nbconvert_exporter": "python",
   "pygments_lexer": "ipython3",
   "version": "3.6.13"
  }
 },
 "nbformat": 4,
 "nbformat_minor": 5
}
