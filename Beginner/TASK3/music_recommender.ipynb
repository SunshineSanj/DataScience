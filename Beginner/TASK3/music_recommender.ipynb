{
 "cells": [
  {
   "cell_type": "markdown",
   "id": "previous-astronomy",
   "metadata": {},
   "source": [
    "# <center> Music Recommender System </center>\n",
    "<img src = \"music.png\">"
   ]
  },
  {
   "cell_type": "markdown",
   "id": "sexual-valley",
   "metadata": {},
   "source": [
    "### Importing important libraries"
   ]
  },
  {
   "cell_type": "code",
   "execution_count": 2,
   "id": "worthy-wichita",
   "metadata": {},
   "outputs": [
    {
     "name": "stderr",
     "output_type": "stream",
     "text": [
      "WARNING: pip is being invoked by an old script wrapper. This will fail in a future version of pip.\n",
      "Please see https://github.com/pypa/pip/issues/5599 for advice on fixing the underlying issue.\n",
      "To avoid this problem you can invoke Python with '-m pip' instead of running pip directly.\n"
     ]
    },
    {
     "name": "stdout",
     "output_type": "stream",
     "text": [
      "Collecting seaborn\n",
      "  Downloading seaborn-0.11.2-py3-none-any.whl (292 kB)\n",
      "Requirement already satisfied: pandas>=0.23 in /srv/conda/envs/notebook/lib/python3.6/site-packages (from seaborn) (1.1.5)\n",
      "Requirement already satisfied: matplotlib>=2.2 in /srv/conda/envs/notebook/lib/python3.6/site-packages (from seaborn) (3.3.4)\n",
      "Requirement already satisfied: numpy>=1.15 in /srv/conda/envs/notebook/lib/python3.6/site-packages (from seaborn) (1.19.5)\n",
      "Requirement already satisfied: scipy>=1.0 in /srv/conda/envs/notebook/lib/python3.6/site-packages (from seaborn) (1.5.3)\n",
      "Requirement already satisfied: python-dateutil>=2.1 in /srv/conda/envs/notebook/lib/python3.6/site-packages (from matplotlib>=2.2->seaborn) (2.8.1)\n",
      "Requirement already satisfied: pillow>=6.2.0 in /srv/conda/envs/notebook/lib/python3.6/site-packages (from matplotlib>=2.2->seaborn) (8.2.0)\n",
      "Requirement already satisfied: kiwisolver>=1.0.1 in /srv/conda/envs/notebook/lib/python3.6/site-packages (from matplotlib>=2.2->seaborn) (1.3.1)\n",
      "Requirement already satisfied: cycler>=0.10 in /srv/conda/envs/notebook/lib/python3.6/site-packages/cycler-0.10.0-py3.6.egg (from matplotlib>=2.2->seaborn) (0.10.0)\n",
      "Requirement already satisfied: pyparsing!=2.0.4,!=2.1.2,!=2.1.6,>=2.0.3 in /srv/conda/envs/notebook/lib/python3.6/site-packages (from matplotlib>=2.2->seaborn) (2.4.7)\n",
      "Requirement already satisfied: six in /srv/conda/envs/notebook/lib/python3.6/site-packages (from cycler>=0.10->matplotlib>=2.2->seaborn) (1.15.0)\n",
      "Requirement already satisfied: pytz>=2017.2 in /srv/conda/envs/notebook/lib/python3.6/site-packages (from pandas>=0.23->seaborn) (2021.1)\n",
      "Installing collected packages: seaborn\n",
      "Successfully installed seaborn-0.11.2\n"
     ]
    }
   ],
   "source": [
    "import numpy as np\n",
    "import pandas as pd\n",
    "import matplotlib.pyplot as plt\n",
    "import pip\n",
    "pip.main(['install','seaborn'])\n",
    "import seaborn as sns"
   ]
  },
  {
   "cell_type": "markdown",
   "id": "productive-acquisition",
   "metadata": {},
   "source": [
    "### Importing Datasets"
   ]
  },
  {
   "cell_type": "code",
   "execution_count": 6,
   "id": "cross-female",
   "metadata": {},
   "outputs": [],
   "source": [
    "df1 = pd.read_csv(\"songs.csv\")\n",
    "df2 = pd.read_csv(\"users.csv\")"
   ]
  },
  {
   "cell_type": "markdown",
   "id": "ceramic-sympathy",
   "metadata": {},
   "source": [
    "### Viewing Dataset"
   ]
  },
  {
   "cell_type": "code",
   "execution_count": 7,
   "id": "monthly-translation",
   "metadata": {},
   "outputs": [
    {
     "data": {
      "text/html": [
       "<div>\n",
       "<style scoped>\n",
       "    .dataframe tbody tr th:only-of-type {\n",
       "        vertical-align: middle;\n",
       "    }\n",
       "\n",
       "    .dataframe tbody tr th {\n",
       "        vertical-align: top;\n",
       "    }\n",
       "\n",
       "    .dataframe thead th {\n",
       "        text-align: right;\n",
       "    }\n",
       "</style>\n",
       "<table border=\"1\" class=\"dataframe\">\n",
       "  <thead>\n",
       "    <tr style=\"text-align: right;\">\n",
       "      <th></th>\n",
       "      <th>song_id</th>\n",
       "      <th>title</th>\n",
       "      <th>release</th>\n",
       "      <th>artist_name</th>\n",
       "      <th>year</th>\n",
       "    </tr>\n",
       "  </thead>\n",
       "  <tbody>\n",
       "    <tr>\n",
       "      <th>0</th>\n",
       "      <td>SOQMMHC12AB0180CB8</td>\n",
       "      <td>Silent Night</td>\n",
       "      <td>Monster Ballads X-Mas</td>\n",
       "      <td>Faster Pussy cat</td>\n",
       "      <td>2003</td>\n",
       "    </tr>\n",
       "    <tr>\n",
       "      <th>1</th>\n",
       "      <td>SOVFVAK12A8C1350D9</td>\n",
       "      <td>Tanssi vaan</td>\n",
       "      <td>Karkuteillä</td>\n",
       "      <td>Karkkiautomaatti</td>\n",
       "      <td>1995</td>\n",
       "    </tr>\n",
       "    <tr>\n",
       "      <th>2</th>\n",
       "      <td>SOGTUKN12AB017F4F1</td>\n",
       "      <td>No One Could Ever</td>\n",
       "      <td>Butter</td>\n",
       "      <td>Hudson Mohawke</td>\n",
       "      <td>2006</td>\n",
       "    </tr>\n",
       "    <tr>\n",
       "      <th>3</th>\n",
       "      <td>SOBNYVR12A8C13558C</td>\n",
       "      <td>Si Vos Querés</td>\n",
       "      <td>De Culo</td>\n",
       "      <td>Yerba Brava</td>\n",
       "      <td>2003</td>\n",
       "    </tr>\n",
       "    <tr>\n",
       "      <th>4</th>\n",
       "      <td>SOHSBXH12A8C13B0DF</td>\n",
       "      <td>Tangle Of Aspens</td>\n",
       "      <td>Rene Ablaze Presents Winter Sessions</td>\n",
       "      <td>Der Mystic</td>\n",
       "      <td>0</td>\n",
       "    </tr>\n",
       "  </tbody>\n",
       "</table>\n",
       "</div>"
      ],
      "text/plain": [
       "              song_id              title  \\\n",
       "0  SOQMMHC12AB0180CB8       Silent Night   \n",
       "1  SOVFVAK12A8C1350D9        Tanssi vaan   \n",
       "2  SOGTUKN12AB017F4F1  No One Could Ever   \n",
       "3  SOBNYVR12A8C13558C      Si Vos Querés   \n",
       "4  SOHSBXH12A8C13B0DF   Tangle Of Aspens   \n",
       "\n",
       "                                release       artist_name  year  \n",
       "0                 Monster Ballads X-Mas  Faster Pussy cat  2003  \n",
       "1                           Karkuteillä  Karkkiautomaatti  1995  \n",
       "2                                Butter    Hudson Mohawke  2006  \n",
       "3                               De Culo       Yerba Brava  2003  \n",
       "4  Rene Ablaze Presents Winter Sessions        Der Mystic     0  "
      ]
     },
     "execution_count": 7,
     "metadata": {},
     "output_type": "execute_result"
    }
   ],
   "source": [
    "df1.head()"
   ]
  },
  {
   "cell_type": "code",
   "execution_count": 8,
   "id": "dirty-blank",
   "metadata": {},
   "outputs": [
    {
     "data": {
      "text/html": [
       "<div>\n",
       "<style scoped>\n",
       "    .dataframe tbody tr th:only-of-type {\n",
       "        vertical-align: middle;\n",
       "    }\n",
       "\n",
       "    .dataframe tbody tr th {\n",
       "        vertical-align: top;\n",
       "    }\n",
       "\n",
       "    .dataframe thead th {\n",
       "        text-align: right;\n",
       "    }\n",
       "</style>\n",
       "<table border=\"1\" class=\"dataframe\">\n",
       "  <thead>\n",
       "    <tr style=\"text-align: right;\">\n",
       "      <th></th>\n",
       "      <th>user_id</th>\n",
       "      <th>song_id</th>\n",
       "      <th>listen_count</th>\n",
       "    </tr>\n",
       "  </thead>\n",
       "  <tbody>\n",
       "    <tr>\n",
       "      <th>0</th>\n",
       "      <td>b80344d063b5ccb3212f76538f3d9e43d87dca9e</td>\n",
       "      <td>SOAKIMP12A8C130995</td>\n",
       "      <td>1</td>\n",
       "    </tr>\n",
       "    <tr>\n",
       "      <th>1</th>\n",
       "      <td>b80344d063b5ccb3212f76538f3d9e43d87dca9e</td>\n",
       "      <td>SOBBMDR12A8C13253B</td>\n",
       "      <td>2</td>\n",
       "    </tr>\n",
       "    <tr>\n",
       "      <th>2</th>\n",
       "      <td>b80344d063b5ccb3212f76538f3d9e43d87dca9e</td>\n",
       "      <td>SOBXHDL12A81C204C0</td>\n",
       "      <td>1</td>\n",
       "    </tr>\n",
       "    <tr>\n",
       "      <th>3</th>\n",
       "      <td>b80344d063b5ccb3212f76538f3d9e43d87dca9e</td>\n",
       "      <td>SOBYHAJ12A6701BF1D</td>\n",
       "      <td>1</td>\n",
       "    </tr>\n",
       "    <tr>\n",
       "      <th>4</th>\n",
       "      <td>b80344d063b5ccb3212f76538f3d9e43d87dca9e</td>\n",
       "      <td>SODACBL12A8C13C273</td>\n",
       "      <td>1</td>\n",
       "    </tr>\n",
       "  </tbody>\n",
       "</table>\n",
       "</div>"
      ],
      "text/plain": [
       "                                    user_id             song_id  listen_count\n",
       "0  b80344d063b5ccb3212f76538f3d9e43d87dca9e  SOAKIMP12A8C130995             1\n",
       "1  b80344d063b5ccb3212f76538f3d9e43d87dca9e  SOBBMDR12A8C13253B             2\n",
       "2  b80344d063b5ccb3212f76538f3d9e43d87dca9e  SOBXHDL12A81C204C0             1\n",
       "3  b80344d063b5ccb3212f76538f3d9e43d87dca9e  SOBYHAJ12A6701BF1D             1\n",
       "4  b80344d063b5ccb3212f76538f3d9e43d87dca9e  SODACBL12A8C13C273             1"
      ]
     },
     "execution_count": 8,
     "metadata": {},
     "output_type": "execute_result"
    }
   ],
   "source": [
    "df2.head()"
   ]
  },
  {
   "cell_type": "markdown",
   "id": "durable-immunology",
   "metadata": {},
   "source": [
    "### Converting Year & Count to integer"
   ]
  },
  {
   "cell_type": "code",
   "execution_count": 9,
   "id": "excellent-orange",
   "metadata": {},
   "outputs": [],
   "source": [
    "df1[\"year\"] = df1[\"year\"].astype('Int64')\n",
    "df2[\"listen_count\"] = df2[\"listen_count\"].astype('Int64')"
   ]
  },
  {
   "cell_type": "markdown",
   "id": "thorough-begin",
   "metadata": {},
   "source": [
    "### Merging both the datasets"
   ]
  },
  {
   "cell_type": "code",
   "execution_count": 10,
   "id": "weighted-michigan",
   "metadata": {},
   "outputs": [
    {
     "data": {
      "text/html": [
       "<div>\n",
       "<style scoped>\n",
       "    .dataframe tbody tr th:only-of-type {\n",
       "        vertical-align: middle;\n",
       "    }\n",
       "\n",
       "    .dataframe tbody tr th {\n",
       "        vertical-align: top;\n",
       "    }\n",
       "\n",
       "    .dataframe thead th {\n",
       "        text-align: right;\n",
       "    }\n",
       "</style>\n",
       "<table border=\"1\" class=\"dataframe\">\n",
       "  <thead>\n",
       "    <tr style=\"text-align: right;\">\n",
       "      <th></th>\n",
       "      <th>user_id</th>\n",
       "      <th>song_id</th>\n",
       "      <th>listen_count</th>\n",
       "      <th>release</th>\n",
       "      <th>artist_name</th>\n",
       "      <th>year</th>\n",
       "      <th>song</th>\n",
       "    </tr>\n",
       "  </thead>\n",
       "  <tbody>\n",
       "    <tr>\n",
       "      <th>0</th>\n",
       "      <td>b80344d063b5ccb3212f76538f3d9e43d87dca9e</td>\n",
       "      <td>SOAKIMP12A8C130995</td>\n",
       "      <td>1</td>\n",
       "      <td>Thicker Than Water</td>\n",
       "      <td>Jack Johnson</td>\n",
       "      <td>0</td>\n",
       "      <td>Jack Johnson - The Cove</td>\n",
       "    </tr>\n",
       "    <tr>\n",
       "      <th>1</th>\n",
       "      <td>b80344d063b5ccb3212f76538f3d9e43d87dca9e</td>\n",
       "      <td>SOBBMDR12A8C13253B</td>\n",
       "      <td>2</td>\n",
       "      <td>Flamenco Para Niños</td>\n",
       "      <td>Paco De Lucia</td>\n",
       "      <td>1976</td>\n",
       "      <td>Paco De Lucia - Entre Dos Aguas</td>\n",
       "    </tr>\n",
       "    <tr>\n",
       "      <th>2</th>\n",
       "      <td>b80344d063b5ccb3212f76538f3d9e43d87dca9e</td>\n",
       "      <td>SOBXHDL12A81C204C0</td>\n",
       "      <td>1</td>\n",
       "      <td>Graduation</td>\n",
       "      <td>Kanye West</td>\n",
       "      <td>2007</td>\n",
       "      <td>Kanye West - Stronger</td>\n",
       "    </tr>\n",
       "    <tr>\n",
       "      <th>3</th>\n",
       "      <td>b80344d063b5ccb3212f76538f3d9e43d87dca9e</td>\n",
       "      <td>SOBYHAJ12A6701BF1D</td>\n",
       "      <td>1</td>\n",
       "      <td>In Between Dreams</td>\n",
       "      <td>Jack Johnson</td>\n",
       "      <td>2005</td>\n",
       "      <td>Jack Johnson - Constellations</td>\n",
       "    </tr>\n",
       "    <tr>\n",
       "      <th>4</th>\n",
       "      <td>b80344d063b5ccb3212f76538f3d9e43d87dca9e</td>\n",
       "      <td>SODACBL12A8C13C273</td>\n",
       "      <td>1</td>\n",
       "      <td>There Is Nothing Left To Lose</td>\n",
       "      <td>Foo Fighters</td>\n",
       "      <td>1999</td>\n",
       "      <td>Foo Fighters - Learn To Fly</td>\n",
       "    </tr>\n",
       "  </tbody>\n",
       "</table>\n",
       "</div>"
      ],
      "text/plain": [
       "                                    user_id             song_id  listen_count  \\\n",
       "0  b80344d063b5ccb3212f76538f3d9e43d87dca9e  SOAKIMP12A8C130995             1   \n",
       "1  b80344d063b5ccb3212f76538f3d9e43d87dca9e  SOBBMDR12A8C13253B             2   \n",
       "2  b80344d063b5ccb3212f76538f3d9e43d87dca9e  SOBXHDL12A81C204C0             1   \n",
       "3  b80344d063b5ccb3212f76538f3d9e43d87dca9e  SOBYHAJ12A6701BF1D             1   \n",
       "4  b80344d063b5ccb3212f76538f3d9e43d87dca9e  SODACBL12A8C13C273             1   \n",
       "\n",
       "                         release    artist_name  year  \\\n",
       "0             Thicker Than Water   Jack Johnson     0   \n",
       "1            Flamenco Para Niños  Paco De Lucia  1976   \n",
       "2                     Graduation     Kanye West  2007   \n",
       "3              In Between Dreams   Jack Johnson  2005   \n",
       "4  There Is Nothing Left To Lose   Foo Fighters  1999   \n",
       "\n",
       "                              song  \n",
       "0          Jack Johnson - The Cove  \n",
       "1  Paco De Lucia - Entre Dos Aguas  \n",
       "2            Kanye West - Stronger  \n",
       "3    Jack Johnson - Constellations  \n",
       "4      Foo Fighters - Learn To Fly  "
      ]
     },
     "execution_count": 10,
     "metadata": {},
     "output_type": "execute_result"
    }
   ],
   "source": [
    "df = pd.merge(df2, df1.drop_duplicates([\"song_id\"]), on='song_id', how='left')\n",
    "df['song'] = df['artist_name'] + ' - ' + df['title']\n",
    "df = df.drop(['title'], axis=1)\n",
    "df.head()"
   ]
  },
  {
   "cell_type": "code",
   "execution_count": 11,
   "id": "quantitative-petersburg",
   "metadata": {},
   "outputs": [
    {
     "data": {
      "text/plain": [
       "user_id         2000000\n",
       "song_id         2000000\n",
       "listen_count    2000000\n",
       "release         2000000\n",
       "artist_name     2000000\n",
       "year            2000000\n",
       "song            2000000\n",
       "dtype: int64"
      ]
     },
     "execution_count": 11,
     "metadata": {},
     "output_type": "execute_result"
    }
   ],
   "source": [
    "df.count()"
   ]
  },
  {
   "cell_type": "markdown",
   "id": "instructional-hotel",
   "metadata": {},
   "source": [
    "### Exploratory data analysis"
   ]
  },
  {
   "cell_type": "code",
   "execution_count": 14,
   "id": "parallel-tension",
   "metadata": {},
   "outputs": [
    {
     "data": {
      "image/png": "[encoded data removed]",
      "text/plain": [
       "<Figure size 2160x720 with 1 Axes>"
      ]
     },
     "metadata": {},
     "output_type": "display_data"
    }
   ],
   "source": [
    "plt.figure(figsize=(30, 10))\n",
    "sns.set(rc={'axes.facecolor':'lightgrey', 'figure.facecolor':'lightgrey'})\n",
    "sns.countplot(x='year', data=df[-(df['year']==0)], color=\"red\")\n",
    "plt.xticks(rotation=90)\n",
    "plt.title(\"No. of Songs per Year\",fontsize=20)\n",
    "plt.xlabel(\"Year\", fontsize=15)\n",
    "plt.ylabel(\"Count\", fontsize=15)\n",
    "plt.show()"
   ]
  },
  {
   "cell_type": "code",
   "execution_count": 17,
   "id": "large-respondent",
   "metadata": {},
   "outputs": [
    {
     "data": {
      "image/png": "[encoded data removed]",
      "text/plain": [
       "<Figure size 2160x1440 with 1 Axes>"
      ]
     },
     "metadata": {},
     "output_type": "display_data"
    }
   ],
   "source": [
    "plt.figure(figsize=(30,20))\n",
    "sns.set(rc={'axes.facecolor':'lightgrey', 'figure.facecolor':'lightgrey'})\n",
    "sns.barplot(x = (df['song'].value_counts()[:10].values), y = (df['song'].value_counts()[:10].index), color=\"green\")\n",
    "plt.title('Most Popular Songs', fontsize=20)\n",
    "plt.xlabel('Listeners', fontsize=15)\n",
    "plt.ylabel('Songs', fontsize=15)\n",
    "plt.show()"
   ]
  },
  {
   "cell_type": "markdown",
   "id": "starting-spring",
   "metadata": {},
   "source": [
    "### Recommender System"
   ]
  },
  {
   "cell_type": "code",
   "execution_count": 29,
   "id": "acceptable-effort",
   "metadata": {},
   "outputs": [],
   "source": [
    "df = df.head(50000)\n",
    "class Engine():\n",
    "    def __init__(self, data, user_id, song):\n",
    "        self.data = data\n",
    "        self.user_id = user_id\n",
    "        self.song = song\n",
    "        self.glcm = None\n",
    "        \n",
    "    def get_song_history(self, user):\n",
    "        user_data = self.data[self.data[self.user_id] == user]\n",
    "        return list(user_data[self.song].unique())\n",
    "        \n",
    "    def get_users(self, item):\n",
    "        item_data = self.data[self.data[self.song] == item]\n",
    "        return set(item_data[self.user_id].unique())\n",
    "        \n",
    "    def get_all_songs(self):\n",
    "        return list(self.data[self.song].unique())\n",
    "        \n",
    "    def get_glcm(self, user_songs, all_songs):\n",
    "        users = []        \n",
    "        for i in range(0, len(user_songs)):\n",
    "            users.append(self.get_users(user_songs[i]))   \n",
    "        glcm = np.matrix(np.zeros(shape=(len(user_songs), len(all_songs))), float)\n",
    "\n",
    "        for i in range(0,len(all_songs)):\n",
    "            songs_i_data = self.data[self.data[self.song] == all_songs[i]]\n",
    "            users_i = set(songs_i_data[self.user_id].unique())\n",
    "            \n",
    "            for j in range(0,len(user_songs)):           \n",
    "                users_j = users[j]\n",
    "                users_intersection = users_i.intersection(users_j)\n",
    "               \n",
    "                users_union = users_i.union(users_j)\n",
    "                glcm[j,i] = float(len(users_intersection))/float(len(users_union))\n",
    "\n",
    "        return glcm\n",
    "\n",
    "    def generate_recommendations(self, user, glcm, all_songs, user_songs):\n",
    "        sim_scores = glcm.sum(axis=0)/float(glcm.shape[0])\n",
    "        sim_scores = np.array(sim_scores)[0].tolist()\n",
    " \n",
    "        sort_index = sorted(((e,i) for i,e in enumerate(list(sim_scores))), reverse=True)\n",
    "        columns = ['UserID', 'Song', 'Score', 'Rank']\n",
    "        df = pd.DataFrame(columns=columns)\n",
    "         \n",
    "        rank = 1 \n",
    "        for i in range(0,len(sort_index)):\n",
    "            if ~np.isnan(sort_index[i][0]) and all_songs[sort_index[i][1]] not in user_songs and rank <= 10:\n",
    "                df.loc[len(df)]=[user,all_songs[sort_index[i][1]],sort_index[i][0],rank]\n",
    "                rank = rank+1\n",
    "        \n",
    "        print(\"Music Recommendations: \\n\")\n",
    "        return df.drop(['UserID'], axis=1)\n",
    "\n",
    "    def get_recommendations(self, user):\n",
    "        user_songs = self.get_song_history(user)    \n",
    "        all_songs = self.get_all_songs()\n",
    "        glcm = self.get_glcm(user_songs, all_songs)\n",
    "        return self.generate_recommendations(user, glcm, all_songs, user_songs)\n",
    "\n",
    "    def get_similar_songs(self, item_list):\n",
    "        user_songs = item_list\n",
    "        all_songs = self.get_all_songs()\n",
    "        glcm = self.get_glcm(user_songs, all_songs)\n",
    "        return self.generate_recommendations(\"\", glcm, all_songs, user_songs)"
   ]
  },
  {
   "cell_type": "markdown",
   "id": "earlier-payroll",
   "metadata": {},
   "source": [
    "### Getting Recommendations for specific user"
   ]
  },
  {
   "cell_type": "code",
   "execution_count": 30,
   "id": "excess-computer",
   "metadata": {},
   "outputs": [],
   "source": [
    "eng = Engine(df, 'user_id', 'song')"
   ]
  },
  {
   "cell_type": "code",
   "execution_count": 31,
   "id": "swiss-location",
   "metadata": {},
   "outputs": [
    {
     "name": "stdout",
     "output_type": "stream",
     "text": [
      "Pixies - Where Is My Mind?\n",
      "Charttraxx Karaoke - Jailbreak\n",
      "Gorillaz - M1 A1\n",
      "Avril Lavigne - When You're Gone\n",
      "Metallica - Hit The Lights\n",
      "Calle 13 - La Aguacatona\n",
      "Talk Talk - It's My Life\n",
      "Amy Winehouse - Love Is A Losing Game\n",
      "Calle 13 - Tengo Hambre\n",
      "Gorillaz - Left Hand Suzuki Method\n",
      "Calle 13 - Atrévete te te\n",
      "Amos Lee - Black River\n",
      "Simple Minds - Oh Jungleland\n",
      "Calle 13 - Cabe-c-o\n",
      "Prince Alla - I Don't Want To Be Late\n",
      "Phish - Billy Breathes\n",
      "The Strokes - New York City Cops\n",
      "Calle 13 - Electro Movimiento\n",
      "Calle 13 Feat. Rubén Blades Y La Chilinga - La Perla\n",
      "The Archies - Sugar Sugar\n",
      "Metallica - The Four Horsemen\n",
      "Binary Star - Solar Powered\n",
      "Calle 13 Featuring Café Tacuba - No Hay Nadie Como Tú\n",
      "Calle 13 - Fiesta De Locos\n",
      "Calle 13 - La Fokin Moda\n",
      "Calle 13 - Pi-di-di-di\n",
      "Calle 13 Featuring Tego Calderón - Sin Exagerar\n",
      "Calle 13 - Un Beso de Desayuno\n"
     ]
    }
   ],
   "source": [
    "song_history = eng.get_song_history(df['user_id'][1111])\n",
    "for song in song_history:\n",
    "  print(song)"
   ]
  },
  {
   "cell_type": "markdown",
   "id": "subjective-eight",
   "metadata": {},
   "source": [
    "### Get similar songs to a specified song"
   ]
  },
  {
   "cell_type": "code",
   "execution_count": 33,
   "id": "checked-collect",
   "metadata": {},
   "outputs": [
    {
     "name": "stdout",
     "output_type": "stream",
     "text": [
      "Music Recommendations: \n",
      "\n"
     ]
    },
    {
     "data": {
      "text/html": [
       "<div>\n",
       "<style scoped>\n",
       "    .dataframe tbody tr th:only-of-type {\n",
       "        vertical-align: middle;\n",
       "    }\n",
       "\n",
       "    .dataframe tbody tr th {\n",
       "        vertical-align: top;\n",
       "    }\n",
       "\n",
       "    .dataframe thead th {\n",
       "        text-align: right;\n",
       "    }\n",
       "</style>\n",
       "<table border=\"1\" class=\"dataframe\">\n",
       "  <thead>\n",
       "    <tr style=\"text-align: right;\">\n",
       "      <th></th>\n",
       "      <th>Song</th>\n",
       "      <th>Score</th>\n",
       "      <th>Rank</th>\n",
       "    </tr>\n",
       "  </thead>\n",
       "  <tbody>\n",
       "    <tr>\n",
       "      <th>0</th>\n",
       "      <td>Modest Mouse - Never Ending Math Equation</td>\n",
       "      <td>0.200000</td>\n",
       "      <td>1</td>\n",
       "    </tr>\n",
       "    <tr>\n",
       "      <th>1</th>\n",
       "      <td>Chaka Demus &amp; Pliers - Murder She Wrote</td>\n",
       "      <td>0.200000</td>\n",
       "      <td>2</td>\n",
       "    </tr>\n",
       "    <tr>\n",
       "      <th>2</th>\n",
       "      <td>Richard Marx &amp; Donna Lewis - At The Beginning ...</td>\n",
       "      <td>0.166667</td>\n",
       "      <td>3</td>\n",
       "    </tr>\n",
       "    <tr>\n",
       "      <th>3</th>\n",
       "      <td>Josh Turner - I Wouldn't Be A Man</td>\n",
       "      <td>0.166667</td>\n",
       "      <td>4</td>\n",
       "    </tr>\n",
       "    <tr>\n",
       "      <th>4</th>\n",
       "      <td>Blake Shelton - Ol' Red (Album Version)</td>\n",
       "      <td>0.166667</td>\n",
       "      <td>5</td>\n",
       "    </tr>\n",
       "    <tr>\n",
       "      <th>5</th>\n",
       "      <td>Chris Cagle - What A Beautiful Day</td>\n",
       "      <td>0.166667</td>\n",
       "      <td>6</td>\n",
       "    </tr>\n",
       "    <tr>\n",
       "      <th>6</th>\n",
       "      <td>Ulrich Schnauss - Goodbye</td>\n",
       "      <td>0.166667</td>\n",
       "      <td>7</td>\n",
       "    </tr>\n",
       "    <tr>\n",
       "      <th>7</th>\n",
       "      <td>Deana Carter - Strawberry Wine</td>\n",
       "      <td>0.166667</td>\n",
       "      <td>8</td>\n",
       "    </tr>\n",
       "    <tr>\n",
       "      <th>8</th>\n",
       "      <td>Blake Shelton - She Wouldn't Be Gone (Album Ve...</td>\n",
       "      <td>0.166667</td>\n",
       "      <td>9</td>\n",
       "    </tr>\n",
       "    <tr>\n",
       "      <th>9</th>\n",
       "      <td>The Album Leaf - The Outer Banks</td>\n",
       "      <td>0.166667</td>\n",
       "      <td>10</td>\n",
       "    </tr>\n",
       "  </tbody>\n",
       "</table>\n",
       "</div>"
      ],
      "text/plain": [
       "                                                Song     Score Rank\n",
       "0          Modest Mouse - Never Ending Math Equation  0.200000    1\n",
       "1            Chaka Demus & Pliers - Murder She Wrote  0.200000    2\n",
       "2  Richard Marx & Donna Lewis - At The Beginning ...  0.166667    3\n",
       "3                  Josh Turner - I Wouldn't Be A Man  0.166667    4\n",
       "4            Blake Shelton - Ol' Red (Album Version)  0.166667    5\n",
       "5                 Chris Cagle - What A Beautiful Day  0.166667    6\n",
       "6                          Ulrich Schnauss - Goodbye  0.166667    7\n",
       "7                     Deana Carter - Strawberry Wine  0.166667    8\n",
       "8  Blake Shelton - She Wouldn't Be Gone (Album Ve...  0.166667    9\n",
       "9                   The Album Leaf - The Outer Banks  0.166667   10"
      ]
     },
     "execution_count": 33,
     "metadata": {},
     "output_type": "execute_result"
    }
   ],
   "source": [
    "eng.get_similar_songs(['The Archies - Sugar Sugar'])"
   ]
  },
  {
   "cell_type": "code",
   "execution_count": null,
   "id": "mathematical-orchestra",
   "metadata": {},
   "outputs": [],
   "source": []
  }
 ],
 "metadata": {
  "kernelspec": {
   "display_name": "Python 3",
   "language": "python",
   "name": "python3"
  },
  "language_info": {
   "codemirror_mode": {
    "name": "ipython",
    "version": 3
   },
   "file_extension": ".py",
   "mimetype": "text/x-python",
   "name": "python",
   "nbconvert_exporter": "python",
   "pygments_lexer": "ipython3",
   "version": "3.6.13"
  }
 },
 "nbformat": 4,
 "nbformat_minor": 5
}
