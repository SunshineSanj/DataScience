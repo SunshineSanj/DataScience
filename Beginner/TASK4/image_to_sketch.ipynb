{
 "cells": [
  {
   "cell_type": "markdown",
   "id": "6c11405c-b18c-42ff-9217-85d85c81263b",
   "metadata": {},
   "source": [
    "# Image to Pencil Sketch with Python\n",
    "\n",
    "<img src=\"pencilSketch.jpg\">"
   ]
  },
  {
   "cell_type": "code",
   "execution_count": 2,
   "id": "b538cf82-1352-4ee9-9893-7dd93c1f4907",
   "metadata": {},
   "outputs": [
    {
     "name": "stdout",
     "output_type": "stream",
     "text": [
      "Requirement already satisfied: opencv-python in /srv/conda/envs/notebook/lib/python3.7/site-packages (4.5.3.56)\n",
      "Requirement already satisfied: numpy>=1.14.5 in /srv/conda/envs/notebook/lib/python3.7/site-packages (from opencv-python) (1.21.1)\n"
     ]
    }
   ],
   "source": [
    "!pip3 install opencv-python\n",
    "import cv2\n",
    "import matplotlib.pyplot as plt"
   ]
  },
  {
   "cell_type": "markdown",
   "id": "33d6603d-60b1-4eda-aef3-e512adc09322",
   "metadata": {},
   "source": [
    "### Reading Original Image file"
   ]
  },
  {
   "cell_type": "code",
   "execution_count": 3,
   "id": "ead16275-2d40-4b27-9080-47bc54d7d278",
   "metadata": {},
   "outputs": [],
   "source": [
    "img=cv2.imread(\"original_image.jpg\")"
   ]
  },
  {
   "cell_type": "markdown",
   "id": "b068522e-1db0-4ef6-a252-5ca84ccd4501",
   "metadata": {},
   "source": [
    "### View Original Image\n",
    "\n",
    "<img src=\"original_image.jpg\">"
   ]
  },
  {
   "cell_type": "markdown",
   "id": "59b470bf-01a0-40d0-97e2-93f734abc739",
   "metadata": {},
   "source": [
    "### Convert to Grey Image"
   ]
  },
  {
   "cell_type": "code",
   "execution_count": 4,
   "id": "d72cf70c-e526-4819-8efe-6e54f75f2967",
   "metadata": {},
   "outputs": [
    {
     "data": {
      "text/plain": [
       "True"
      ]
     },
     "execution_count": 4,
     "metadata": {},
     "output_type": "execute_result"
    }
   ],
   "source": [
    "grey_img=cv2.cvtColor(img, cv2.COLOR_BGR2GRAY)\n",
    "cv2.imwrite('grey_image.png', grey_img)"
   ]
  },
  {
   "cell_type": "markdown",
   "id": "be0d1b57-4151-4c09-890d-1925478c1bd1",
   "metadata": {},
   "source": [
    "### View Grey Scale Image\n",
    "\n",
    "<img src=\"grey_image.png\">"
   ]
  },
  {
   "cell_type": "markdown",
   "id": "ec4c37d2-a184-490c-a495-51cc59f300ff",
   "metadata": {},
   "source": [
    "### Invert Image"
   ]
  },
  {
   "cell_type": "code",
   "execution_count": 5,
   "id": "67c5ee0f-a580-4c1b-90ab-800acc164613",
   "metadata": {},
   "outputs": [
    {
     "data": {
      "text/plain": [
       "True"
      ]
     },
     "execution_count": 5,
     "metadata": {},
     "output_type": "execute_result"
    }
   ],
   "source": [
    "invert_img=cv2.bitwise_not(grey_img)\n",
    "cv2.imwrite('invert_img.png',invert_img)"
   ]
  },
  {
   "cell_type": "markdown",
   "id": "0ea45dcc-cc18-4390-ad96-212675e9ef85",
   "metadata": {},
   "source": [
    "### View Inverted Image\n",
    "\n",
    "<img src=\"invert_img.png\">"
   ]
  },
  {
   "cell_type": "markdown",
   "id": "856d34bf-5f93-47d4-8602-ec676364c9f1",
   "metadata": {},
   "source": [
    "### Blur image"
   ]
  },
  {
   "cell_type": "code",
   "execution_count": 8,
   "id": "deab7ba0-f41a-4840-9123-77dfc84ed7c6",
   "metadata": {},
   "outputs": [
    {
     "data": {
      "text/plain": [
       "True"
      ]
     },
     "execution_count": 8,
     "metadata": {},
     "output_type": "execute_result"
    }
   ],
   "source": [
    "blur_img=cv2.GaussianBlur(invert_img, (7,7),0)\n",
    "cv2.imwrite('blur_img.png',blur_img)"
   ]
  },
  {
   "cell_type": "markdown",
   "id": "59f6000f-b68b-47f0-8735-cdafe6dd214c",
   "metadata": {},
   "source": [
    "### View Blur Image\n",
    "\n",
    "<img src=\"blur_img.png\" height=400px width=200px>"
   ]
  },
  {
   "cell_type": "markdown",
   "id": "a3de6ab3-630d-47ac-8e2f-6a7ddfbf0552",
   "metadata": {},
   "source": [
    "### Invert Blurred Image"
   ]
  },
  {
   "cell_type": "code",
   "execution_count": 9,
   "id": "dc9bc09e-e486-4450-9fad-867b2af1c46f",
   "metadata": {},
   "outputs": [
    {
     "data": {
      "text/plain": [
       "True"
      ]
     },
     "execution_count": 9,
     "metadata": {},
     "output_type": "execute_result"
    }
   ],
   "source": [
    "invblur_img=cv2.bitwise_not(blur_img)\n",
    "cv2.imwrite('invblur_img.png',invblur_img)"
   ]
  },
  {
   "cell_type": "markdown",
   "id": "59a1b6c7-b4e7-4649-84af-e47c3bc0fb5b",
   "metadata": {},
   "source": [
    "### View Inverted Blur Image\n",
    "\n",
    "<img src=\"invblur_img.png\">"
   ]
  },
  {
   "cell_type": "markdown",
   "id": "72bbc362-d126-43a7-9046-96f9f40f449e",
   "metadata": {},
   "source": [
    " ### Sketch Image"
   ]
  },
  {
   "cell_type": "code",
   "execution_count": 10,
   "id": "5848284c-96ac-45df-8fbf-cd8462aac814",
   "metadata": {},
   "outputs": [
    {
     "data": {
      "text/plain": [
       "True"
      ]
     },
     "execution_count": 10,
     "metadata": {},
     "output_type": "execute_result"
    }
   ],
   "source": [
    "sketch_img = cv2.divide(grey_img,invblur_img, scale=256.0)\n",
    "cv2.imwrite('sketch_image.png', sketch_img)"
   ]
  },
  {
   "cell_type": "markdown",
   "id": "9d345cc2-4239-4a2e-8232-3e0cd7da8ead",
   "metadata": {},
   "source": [
    "### View Sketch Image\n",
    "\n",
    "<img src=\"sketch_image.png\">"
   ]
  },
  {
   "cell_type": "code",
   "execution_count": null,
   "id": "c58acb1b-e0b6-40c6-809b-319d1c913620",
   "metadata": {},
   "outputs": [],
   "source": []
  }
 ],
 "metadata": {
  "kernelspec": {
   "display_name": "Python 3",
   "language": "python",
   "name": "python3"
  },
  "language_info": {
   "codemirror_mode": {
    "name": "ipython",
    "version": 3
   },
   "file_extension": ".py",
   "mimetype": "text/x-python",
   "name": "python",
   "nbconvert_exporter": "python",
   "pygments_lexer": "ipython3",
   "version": "3.7.8"
  }
 },
 "nbformat": 4,
 "nbformat_minor": 5
}
